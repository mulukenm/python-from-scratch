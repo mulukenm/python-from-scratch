{
 "cells": [
  {
   "cell_type": "code",
   "execution_count": 1,
   "id": "cb4d0355-99ed-4616-aa63-2a7a98966d04",
   "metadata": {},
   "outputs": [
    {
     "name": "stdout",
     "output_type": "stream",
     "text": [
      "0\n",
      "1\n",
      "2\n",
      "3\n",
      "4\n",
      "5\n",
      "6\n",
      "7\n",
      "8\n",
      "9\n"
     ]
    }
   ],
   "source": [
    "s = 'abccdeffggh'\n",
    "for i in range(len(s) - 1):\n",
    "    print(i)\n",
    "    "
   ]
  },
  {
   "cell_type": "code",
   "execution_count": 2,
   "id": "4aacf50e-22b6-4bfd-9d88-636fec85acc8",
   "metadata": {},
   "outputs": [
    {
     "name": "stdout",
     "output_type": "stream",
     "text": [
      "3\n"
     ]
    }
   ],
   "source": [
    "#  writing a function with loop\n",
    "#  comparing current to next character\n",
    "def count_adjacent_repeats(s):\n",
    "    ''' (str) -> int\n",
    "    Return the number of occurrences of a character and \n",
    "    an adjacent character being the same\n",
    "    '''\n",
    "\n",
    "    repeats = 0\n",
    "    for i in range(len(s) - 1):\n",
    "        if s[i]== s[i + 1]:\n",
    "            repeats = repeats + 1\n",
    "    return repeats\n",
    "    \n",
    "# calling the function\n",
    "print(count_adjacent_repeats('abccdeffggh'))"
   ]
  },
  {
   "cell_type": "code",
   "execution_count": 3,
   "id": "b3e86db6-4cfc-4789-8fef-59d9f9cc5505",
   "metadata": {},
   "outputs": [
    {
     "name": "stdout",
     "output_type": "stream",
     "text": [
      "3\n"
     ]
    }
   ],
   "source": [
    "#  writing a function with loop\n",
    "#  comparing current to previous character\n",
    "def count_adjacent_repeats(s):\n",
    "    ''' (str) -> int\n",
    "    Return the number of occurrences of a character and \n",
    "    an adjacent character being the same\n",
    "    '''\n",
    "\n",
    "    repeats = 0\n",
    "    for i in range(1, len(s)):\n",
    "        if s[i]== s[i - 1]:\n",
    "            repeats = repeats + 1\n",
    "    return repeats\n",
    "    \n",
    "# calling the function\n",
    "print(count_adjacent_repeats('abccdeffggh'))"
   ]
  },
  {
   "cell_type": "code",
   "execution_count": 4,
   "id": "176e807c-8495-4e8f-9e60-957534e806ff",
   "metadata": {},
   "outputs": [
    {
     "name": "stdout",
     "output_type": "stream",
     "text": [
      "None\n",
      "['b', 'c', 'd', 'a']\n"
     ]
    }
   ],
   "source": [
    "def shift_left(L):\n",
    "    ''' (str) -> int\n",
    "   Shift each item in L one position to the left\n",
    "   and shift the first item to the last position.\n",
    "\n",
    "   Precondition: len(L) >= 1\n",
    "    '''\n",
    "\n",
    "    first_item = L[0]\n",
    "    \n",
    "    for i in range(1, len(L)):\n",
    "        L[i - 1] = L[i]\n",
    "        \n",
    "    L[-1] = first_item\n",
    "    \n",
    "letters = ['a', 'b', 'c', 'd']   \n",
    "print(shift_left(letters))\n",
    "print(letters)"
   ]
  },
  {
   "cell_type": "code",
   "execution_count": null,
   "id": "45df9392-46ec-4294-bb66-c01e746c995c",
   "metadata": {},
   "outputs": [],
   "source": []
  },
  {
   "cell_type": "code",
   "execution_count": null,
   "id": "8ac58730-2bc8-4482-9ba8-7ba92cc30dc7",
   "metadata": {},
   "outputs": [],
   "source": []
  },
  {
   "cell_type": "code",
   "execution_count": null,
   "id": "ac3774da-da52-442d-a4b2-c2e87050a0db",
   "metadata": {},
   "outputs": [],
   "source": []
  }
 ],
 "metadata": {
  "kernelspec": {
   "display_name": "Python 3 (ipykernel)",
   "language": "python",
   "name": "python3"
  },
  "language_info": {
   "codemirror_mode": {
    "name": "ipython",
    "version": 3
   },
   "file_extension": ".py",
   "mimetype": "text/x-python",
   "name": "python",
   "nbconvert_exporter": "python",
   "pygments_lexer": "ipython3",
   "version": "3.13.5"
  }
 },
 "nbformat": 4,
 "nbformat_minor": 5
}
