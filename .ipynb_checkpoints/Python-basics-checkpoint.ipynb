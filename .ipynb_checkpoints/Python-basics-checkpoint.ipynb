{
 "cells": [
  {
   "cell_type": "markdown",
   "metadata": {},
   "source": [
    "## Python Basics "
   ]
  },
  {
   "cell_type": "code",
   "execution_count": 1,
   "metadata": {},
   "outputs": [
    {
     "name": "stdout",
     "output_type": "stream",
     "text": [
      "The Python version is:  3.8.3\n"
     ]
    }
   ],
   "source": [
    "# Checking version of python you are using\n",
    "from platform import python_version \n",
    "print(\"The Python version is: \", python_version())"
   ]
  },
  {
   "cell_type": "code",
   "execution_count": 2,
   "metadata": {},
   "outputs": [
    {
     "name": "stdout",
     "output_type": "stream",
     "text": [
      "The Zen of Python, by Tim Peters\n",
      "\n",
      "Beautiful is better than ugly.\n",
      "Explicit is better than implicit.\n",
      "Simple is better than complex.\n",
      "Complex is better than complicated.\n",
      "Flat is better than nested.\n",
      "Sparse is better than dense.\n",
      "Readability counts.\n",
      "Special cases aren't special enough to break the rules.\n",
      "Although practicality beats purity.\n",
      "Errors should never pass silently.\n",
      "Unless explicitly silenced.\n",
      "In the face of ambiguity, refuse the temptation to guess.\n",
      "There should be one-- and preferably only one --obvious way to do it.\n",
      "Although that way may not be obvious at first unless you're Dutch.\n",
      "Now is better than never.\n",
      "Although never is often better than *right* now.\n",
      "If the implementation is hard to explain, it's a bad idea.\n",
      "If the implementation is easy to explain, it may be a good idea.\n",
      "Namespaces are one honking great idea -- let's do more of those!\n"
     ]
    }
   ],
   "source": [
    "import this"
   ]
  },
  {
   "cell_type": "code",
   "execution_count": 3,
   "metadata": {},
   "outputs": [
    {
     "name": "stdout",
     "output_type": "stream",
     "text": [
      "Hello Python world!\n"
     ]
    }
   ],
   "source": [
    "# Assigning variable and printing\n",
    "message = \"Hello Python world!\"\n",
    "print(message)"
   ]
  },
  {
   "cell_type": "code",
   "execution_count": 4,
   "metadata": {},
   "outputs": [
    {
     "name": "stdout",
     "output_type": "stream",
     "text": [
      "Gondar, Ethiopia.\n"
     ]
    }
   ],
   "source": [
    "#Changing case in a string using built-in method\n",
    "name = \"gondar, ethiopia.\"\n",
    "print(name.title())"
   ]
  },
  {
   "cell_type": "code",
   "execution_count": 5,
   "metadata": {},
   "outputs": [
    {
     "name": "stdout",
     "output_type": "stream",
     "text": [
      "ADDIS ABABA\n",
      "addis ababa\n"
     ]
    }
   ],
   "source": [
    "# Changing the whole word to upper and lower cases\n",
    "name = \"Addis Ababa\"\n",
    "print(name.upper())\n",
    "print(name.lower())"
   ]
  },
  {
   "cell_type": "code",
   "execution_count": 6,
   "metadata": {},
   "outputs": [
    {
     "name": "stdout",
     "output_type": "stream",
     "text": [
      "alebel baye\n"
     ]
    }
   ],
   "source": [
    "# Concatenation\n",
    "first_name = \"alebel\"\n",
    "last_name = \"baye\"\n",
    "full_name = first_name + \" \" + last_name\n",
    "print(full_name)"
   ]
  },
  {
   "cell_type": "code",
   "execution_count": 7,
   "metadata": {},
   "outputs": [
    {
     "name": "stdout",
     "output_type": "stream",
     "text": [
      "His name is Alebel Baye!\n"
     ]
    }
   ],
   "source": [
    "# Concatenation + case changing\n",
    "first_name = \"alebel\"\n",
    "last_name = \"baye\"\n",
    "full_name = first_name + \" \" + last_name\n",
    "print(\"His name is\", full_name.title() + \"!\")"
   ]
  },
  {
   "cell_type": "code",
   "execution_count": 8,
   "metadata": {},
   "outputs": [
    {
     "name": "stdout",
     "output_type": "stream",
     "text": [
      "\tThis is Python Basics.\n",
      "\n",
      "---------\n",
      "Data Types:\n",
      "List\n",
      "Tuple\n",
      "Set\n",
      "Dictionary\n",
      "\n",
      "---------\n",
      "Data Types:\n",
      "\tList\n",
      "\tTuple\n",
      "\tSet\n",
      "\tDictionary\n"
     ]
    }
   ],
   "source": [
    "# Adding whitespace with Tabs \n",
    "print(\"\\tThis is Python Basics.\")\n",
    "print(\"\"\"\\n---------\"\"\")\n",
    "\n",
    "# Printing at newlines\n",
    "print(\"Data Types:\\nList\\nTuple\\nSet\\nDictionary\")\n",
    "print(\"\"\"\\n---------\"\"\")\n",
    "\n",
    "# Tab and Newlines\n",
    "print(\"Data Types:\\n\\tList\\n\\tTuple\\n\\tSet\\n\\tDictionary\")"
   ]
  },
  {
   "cell_type": "code",
   "execution_count": 9,
   "metadata": {},
   "outputs": [
    {
     "name": "stdout",
     "output_type": "stream",
     "text": [
      "['trek', 'cannondale', 'redline', 'specialized']\n"
     ]
    }
   ],
   "source": [
    "# List\n",
    "bicycles = ['trek', 'cannondale', 'redline', 'specialized']\n",
    "print(bicycles)"
   ]
  },
  {
   "cell_type": "code",
   "execution_count": 10,
   "metadata": {},
   "outputs": [
    {
     "data": {
      "text/plain": [
       "'trek'"
      ]
     },
     "execution_count": 10,
     "metadata": {},
     "output_type": "execute_result"
    }
   ],
   "source": [
    "bicycles[0] # indexing left to write, indexing starts at zero"
   ]
  },
  {
   "cell_type": "code",
   "execution_count": 11,
   "metadata": {},
   "outputs": [
    {
     "data": {
      "text/plain": [
       "'specialized'"
      ]
     },
     "execution_count": 11,
     "metadata": {},
     "output_type": "execute_result"
    }
   ],
   "source": [
    "bicycles[-1] # indexing right to left using negetative indexing which starts at -1"
   ]
  },
  {
   "cell_type": "code",
   "execution_count": 12,
   "metadata": {},
   "outputs": [
    {
     "name": "stdout",
     "output_type": "stream",
     "text": [
      "['honda', 'yamaha', 'suzuki']\n"
     ]
    }
   ],
   "source": [
    "# Creating List using append\n",
    "motorcycles = []\n",
    "motorcycles.append('honda')\n",
    "motorcycles.append('yamaha')\n",
    "motorcycles.append('suzuki')\n",
    "print(motorcycles)"
   ]
  },
  {
   "cell_type": "code",
   "execution_count": 13,
   "metadata": {},
   "outputs": [
    {
     "name": "stdout",
     "output_type": "stream",
     "text": [
      "['honda', 'yamaha', 'suzuki', 'ducati']\n"
     ]
    }
   ],
   "source": [
    "# append adds at the end\n",
    "motorcycles.append('ducati')\n",
    "print(motorcycles)"
   ]
  },
  {
   "cell_type": "code",
   "execution_count": 14,
   "metadata": {},
   "outputs": [
    {
     "name": "stdout",
     "output_type": "stream",
     "text": [
      "['ducati2', 'honda', 'yamaha', 'suzuki', 'ducati']\n"
     ]
    }
   ],
   "source": [
    "# insert puts the element at any designated place\n",
    "motorcycles.insert(0, 'ducati2')\n",
    "print(motorcycles)"
   ]
  },
  {
   "cell_type": "code",
   "execution_count": 15,
   "metadata": {},
   "outputs": [
    {
     "name": "stdout",
     "output_type": "stream",
     "text": [
      "['honda', 'yamaha', 'suzuki', 'ducati']\n"
     ]
    }
   ],
   "source": [
    "# Removing an item using del --- needs to specify index number\n",
    "del motorcycles[0]\n",
    "print(motorcycles)"
   ]
  },
  {
   "cell_type": "code",
   "execution_count": 16,
   "metadata": {},
   "outputs": [
    {
     "name": "stdout",
     "output_type": "stream",
     "text": [
      "['honda', 'yamaha', 'suzuki']\n",
      "ducati\n"
     ]
    }
   ],
   "source": [
    "# Removing an item using the pop() method---it removes the last item\n",
    "popped_motorcycles = motorcycles.pop() # the popped item stored as a variable (popped_motorcycles)\n",
    "print(motorcycles)\n",
    "print(popped_motorcycles)"
   ]
  },
  {
   "cell_type": "code",
   "execution_count": 17,
   "metadata": {},
   "outputs": [
    {
     "name": "stdout",
     "output_type": "stream",
     "text": [
      "['honda', 'yamaha', 'suzuki', 'ducati']\n",
      "['honda', 'yamaha', 'suzuki']\n",
      "\n",
      "A Ducati is too expensive for me.\n"
     ]
    }
   ],
   "source": [
    "# Remove an item using the remove() method\n",
    "motorcycles = ['honda', 'yamaha', 'suzuki', 'ducati']\n",
    "print(motorcycles)\n",
    "\n",
    "too_expensive = 'ducati'\n",
    "motorcycles.remove(too_expensive)\n",
    "print(motorcycles)\n",
    "print(\"\\nA \" + too_expensive.title() + \" is too expensive for me.\")"
   ]
  },
  {
   "cell_type": "code",
   "execution_count": 18,
   "metadata": {},
   "outputs": [
    {
     "name": "stdout",
     "output_type": "stream",
     "text": [
      "Here is the original list:\n",
      "['honda', 'yamaha', 'suzuki']\n",
      "\n",
      "Here is the sorted list:\n",
      "['honda', 'suzuki', 'yamaha']\n",
      "\n",
      "Here is the original list again:\n",
      "['honda', 'yamaha', 'suzuki']\n"
     ]
    }
   ],
   "source": [
    "#sorting a list ---  using sorted() function-- Temporary sorting sorting\n",
    "print(\"Here is the original list:\")\n",
    "print(motorcycles)\n",
    "\n",
    "print(\"\\nHere is the sorted list:\")  # if sorted data is needed, assign it to a new variable\n",
    "print(sorted(motorcycles))\n",
    "\n",
    "print(\"\\nHere is the original list again:\")\n",
    "print(motorcycles)"
   ]
  },
  {
   "cell_type": "code",
   "execution_count": 19,
   "metadata": {},
   "outputs": [
    {
     "name": "stdout",
     "output_type": "stream",
     "text": [
      "['honda', 'suzuki', 'yamaha']\n"
     ]
    }
   ],
   "source": [
    "#sorting a list ---  using sort() function-- Permanent sorting \n",
    "motorcycles.sort()\n",
    "print(motorcycles)\n",
    "# motorcycles.sort(reverse=True)\n",
    "# print(motorcycles)"
   ]
  },
  {
   "cell_type": "code",
   "execution_count": 20,
   "metadata": {},
   "outputs": [
    {
     "name": "stdout",
     "output_type": "stream",
     "text": [
      "['yamaha', 'suzuki', 'honda']\n"
     ]
    }
   ],
   "source": [
    "# Printing a list in reverse order\n",
    "motorcycles.reverse()\n",
    "print(motorcycles)"
   ]
  },
  {
   "cell_type": "code",
   "execution_count": 21,
   "metadata": {},
   "outputs": [
    {
     "name": "stdout",
     "output_type": "stream",
     "text": [
      "['honda', 'suzuki', 'yamaha']\n"
     ]
    }
   ],
   "source": [
    "# Printing a list by reversing again\n",
    "motorcycles.reverse()\n",
    "print(motorcycles)"
   ]
  },
  {
   "cell_type": "code",
   "execution_count": 22,
   "metadata": {},
   "outputs": [
    {
     "data": {
      "text/plain": [
       "3"
      ]
     },
     "execution_count": 22,
     "metadata": {},
     "output_type": "execute_result"
    }
   ],
   "source": [
    "# Finding length of a list\n",
    "len(motorcycles)"
   ]
  },
  {
   "cell_type": "code",
   "execution_count": 23,
   "metadata": {},
   "outputs": [
    {
     "name": "stdout",
     "output_type": "stream",
     "text": [
      "honda\n",
      "suzuki\n",
      "yamaha\n"
     ]
    }
   ],
   "source": [
    "# Looping thru a list\n",
    "for motorcycle in motorcycles:\n",
    "    print(motorcycle)"
   ]
  },
  {
   "cell_type": "code",
   "execution_count": 24,
   "metadata": {},
   "outputs": [
    {
     "name": "stdout",
     "output_type": "stream",
     "text": [
      "Alene, that was a great presentation!\n",
      "Shiferaw, that was a great presentation!\n",
      "Berhanu, that was a great presentation!\n",
      "Markos, that was a great presentation!\n"
     ]
    }
   ],
   "source": [
    "# Doing more work with for loop\n",
    "presenters = ['alene', 'shiferaw', 'berhanu', 'markos']\n",
    "for presenter in presenters:\n",
    "    print(presenter.title() + \", that was a great presentation!\")"
   ]
  },
  {
   "cell_type": "code",
   "execution_count": 25,
   "metadata": {},
   "outputs": [
    {
     "name": "stdout",
     "output_type": "stream",
     "text": [
      "Alene, that was a great presentation!\n",
      "I can't wait to see your next presentation, Alene.\n",
      "\n",
      "Shiferaw, that was a great presentation!\n",
      "I can't wait to see your next presentation, Shiferaw.\n",
      "\n",
      "Berhanu, that was a great presentation!\n",
      "I can't wait to see your next presentation, Berhanu.\n",
      "\n",
      "Markos, that was a great presentation!\n",
      "I can't wait to see your next presentation, Markos.\n",
      "\n",
      "Thank you, everyone. That was a great workshop!\n"
     ]
    }
   ],
   "source": [
    "# Doing something after more a for loop \n",
    "presenters = ['alene', 'shiferaw', 'berhanu', 'markos']\n",
    "for presenter in presenters:\n",
    "    print(presenter.title() + \", that was a great presentation!\")\n",
    "    print(\"I can't wait to see your next presentation, \" + presenter.title() + \".\\n\")\n",
    "print(\"Thank you, everyone. That was a great workshop!\")"
   ]
  },
  {
   "cell_type": "code",
   "execution_count": 26,
   "metadata": {},
   "outputs": [
    {
     "name": "stdout",
     "output_type": "stream",
     "text": [
      "Alene, that was a great presentation!\n",
      "I can't wait to see your next presentation, Alene.\n",
      "\n",
      "Thank you, everyone. That was a great workshop!\n",
      "Shiferaw, that was a great presentation!\n",
      "I can't wait to see your next presentation, Shiferaw.\n",
      "\n",
      "Thank you, everyone. That was a great workshop!\n",
      "Berhanu, that was a great presentation!\n",
      "I can't wait to see your next presentation, Berhanu.\n",
      "\n",
      "Thank you, everyone. That was a great workshop!\n",
      "Markos, that was a great presentation!\n",
      "I can't wait to see your next presentation, Markos.\n",
      "\n",
      "Thank you, everyone. That was a great workshop!\n"
     ]
    }
   ],
   "source": [
    "# Doing something after more a for loop ---- Unnecessary indenting, ***\n",
    "presenters = ['alene', 'shiferaw', 'berhanu', 'markos']\n",
    "for presenter in presenters:\n",
    "    print(presenter.title() + \", that was a great presentation!\")\n",
    "    print(\"I can't wait to see your next presentation, \" + presenter.title() + \".\\n\")\n",
    "    print(\"Thank you, everyone. That was a great workshop!\")"
   ]
  },
  {
   "cell_type": "code",
   "execution_count": 27,
   "metadata": {},
   "outputs": [
    {
     "name": "stdout",
     "output_type": "stream",
     "text": [
      "0\n",
      "1\n",
      "2\n",
      "3\n",
      "4\n",
      "-------------\n",
      "1\n",
      "2\n",
      "3\n",
      "4\n"
     ]
    }
   ],
   "source": [
    "# Using range() function\n",
    "for value in range(5):\n",
    "    print(value)\n",
    "    \n",
    "print('-------------')\n",
    "\n",
    "for value in range(1,5):\n",
    "    print(value)"
   ]
  },
  {
   "cell_type": "code",
   "execution_count": 28,
   "metadata": {},
   "outputs": [
    {
     "name": "stdout",
     "output_type": "stream",
     "text": [
      "[1, 2, 3, 4]\n"
     ]
    }
   ],
   "source": [
    "#Using range() to Make a List of Numbers\n",
    "numbers = list(range(1,5))\n",
    "print(numbers)"
   ]
  },
  {
   "cell_type": "code",
   "execution_count": 29,
   "metadata": {},
   "outputs": [
    {
     "name": "stdout",
     "output_type": "stream",
     "text": [
      "[1, 4, 9, 16, 25, 36, 49, 64, 81, 100, 121, 144, 169, 196, 225, 256, 289, 324, 361, 400]\n"
     ]
    }
   ],
   "source": [
    "#Using range() to Make a List of Numbers\n",
    "squares = []\n",
    "for value in range (1, 21):\n",
    "    square = value**2\n",
    "    squares.append(square)\n",
    "print(squares)"
   ]
  },
  {
   "cell_type": "code",
   "execution_count": 30,
   "metadata": {},
   "outputs": [
    {
     "name": "stdout",
     "output_type": "stream",
     "text": [
      "[1, 4, 9, 16, 25, 36, 49, 64, 81, 100, 121, 144, 169, 196, 225, 256, 289, 324, 361, 400]\n"
     ]
    }
   ],
   "source": [
    "# Shorter form of the above\n",
    "squares = [value**2 for value in range(1,21)]\n",
    "print(squares)"
   ]
  },
  {
   "cell_type": "code",
   "execution_count": 31,
   "metadata": {},
   "outputs": [
    {
     "name": "stdout",
     "output_type": "stream",
     "text": [
      "The minimum value is:  1\n",
      "The maximum value is:  11\n",
      "The sum is:  66\n"
     ]
    }
   ],
   "source": [
    "# calculating some statistics of a list using in-built functions\n",
    "digits = [ 6, 7, 8, 11, 9, 1, 2, 3, 4, 5, 10]\n",
    "print('The minimum value is: ', min(digits))\n",
    "print('The maximum value is: ',max(digits))\n",
    "print('The sum is: ',sum(digits))"
   ]
  },
  {
   "cell_type": "code",
   "execution_count": 32,
   "metadata": {},
   "outputs": [
    {
     "name": "stdout",
     "output_type": "stream",
     "text": [
      "['orange', 'blueberry']\n",
      "mango\n",
      "['mango', 'orange']\n",
      "['blueberry', 'strawberry', 'banana']\n"
     ]
    }
   ],
   "source": [
    "# Slicing of a list\n",
    "fruits = ['mango', 'orange', 'blueberry', 'strawberry', 'banana']\n",
    "print(fruits[1:3])\n",
    "print(fruits[0])\n",
    "print(fruits[:2])\n",
    "print(fruits[2:])"
   ]
  },
  {
   "cell_type": "code",
   "execution_count": 33,
   "metadata": {},
   "outputs": [
    {
     "name": "stdout",
     "output_type": "stream",
     "text": [
      "Here are the first three fruits from the list:\n",
      "Mango\n",
      "Orange\n",
      "Blueberry\n"
     ]
    }
   ],
   "source": [
    "# looping with slicing of a list\n",
    "fruits = ['mango', 'orange', 'blueberry', 'strawberry', 'banana']\n",
    "print(\"Here are the first three fruits from the list:\")\n",
    "for fruit in fruits[:3]:\n",
    "    print(fruit.title())"
   ]
  },
  {
   "cell_type": "code",
   "execution_count": null,
   "metadata": {},
   "outputs": [],
   "source": []
  }
 ],
 "metadata": {
  "hide_input": false,
  "kernelspec": {
   "display_name": "Python 3",
   "language": "python",
   "name": "python3"
  },
  "language_info": {
   "codemirror_mode": {
    "name": "ipython",
    "version": 3
   },
   "file_extension": ".py",
   "mimetype": "text/x-python",
   "name": "python",
   "nbconvert_exporter": "python",
   "pygments_lexer": "ipython3",
   "version": "3.8.3"
  },
  "latex_envs": {
   "LaTeX_envs_menu_present": true,
   "autoclose": false,
   "autocomplete": true,
   "bibliofile": "biblio.bib",
   "cite_by": "apalike",
   "current_citInitial": 1,
   "eqLabelWithNumbers": true,
   "eqNumInitial": 1,
   "hotkeys": {
    "equation": "Ctrl-E",
    "itemize": "Ctrl-I"
   },
   "labels_anchors": false,
   "latex_user_defs": false,
   "report_style_numbering": false,
   "user_envs_cfg": false
  }
 },
 "nbformat": 4,
 "nbformat_minor": 4
}
