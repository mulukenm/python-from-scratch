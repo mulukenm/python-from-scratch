{
 "cells": [
  {
   "cell_type": "markdown",
   "metadata": {},
   "source": [
    "# Python Basics \n",
    "Python is a high level, interpreted, and interactive programming language. Python is completely object oriented, and not \"statically typed\". You do not need to declare variables before using them, or declare their type. Every variable in Python is an object. Python is appealing due to its simplicity and  beauty, as well as convenience of large ecosystem of domain-specific tools that have been built on on top of it. \n",
    "\n",
    "The following are useful and mature packages (modules) for data science and scientific computing: \n",
    "* [NumPy](https://numpy.org/):  the fundamental package for scientific computing in Python and provides efficient storage and computation for multi-dimensional data arrays.  \n",
    "* [Pandas](https://pandas.pydata.org/): a fast, powerful, flexible and easy to use open source data analysis and manipulation tool, built on top of the Python programming language.\n",
    "* [SciPy](https://www.scipy.org/about.html): a collection of open source software for scientific computing in Python.\n",
    "* [Matplotlib](https://matplotlib.org/): a comprehensive library for creating static, animated, and interactive visualizations in Python.\n",
    "* [Scikit-Learn](https://scikit-learn.org/stable/): provides simple and efficient tools for predictive data analysis; provides a uniform toolkit for applying common machine learning algorithms to data. \n",
    "* [IPython/Jupyter](https://ipython.org/): a powerful interactive shell and kernel for Jupyter Notebooks. It provides an enhanced terminal and an interactive notebook environment that is useful for exploratory analysis.  "
   ]
  },
  {
   "cell_type": "code",
   "execution_count": 1,
   "metadata": {},
   "outputs": [
    {
     "name": "stdout",
     "output_type": "stream",
     "text": [
      "The Python version is:  3.8.8\n"
     ]
    }
   ],
   "source": [
    "# Checking version of python you are using (---- if installed)\n",
    "from platform import python_version \n",
    "print(\"The Python version is: \", python_version())"
   ]
  },
  {
   "cell_type": "code",
   "execution_count": 2,
   "metadata": {},
   "outputs": [
    {
     "name": "stdout",
     "output_type": "stream",
     "text": [
      "The Zen of Python, by Tim Peters\n",
      "\n",
      "Beautiful is better than ugly.\n",
      "Explicit is better than implicit.\n",
      "Simple is better than complex.\n",
      "Complex is better than complicated.\n",
      "Flat is better than nested.\n",
      "Sparse is better than dense.\n",
      "Readability counts.\n",
      "Special cases aren't special enough to break the rules.\n",
      "Although practicality beats purity.\n",
      "Errors should never pass silently.\n",
      "Unless explicitly silenced.\n",
      "In the face of ambiguity, refuse the temptation to guess.\n",
      "There should be one-- and preferably only one --obvious way to do it.\n",
      "Although that way may not be obvious at first unless you're Dutch.\n",
      "Now is better than never.\n",
      "Although never is often better than *right* now.\n",
      "If the implementation is hard to explain, it's a bad idea.\n",
      "If the implementation is easy to explain, it may be a good idea.\n",
      "Namespaces are one honking great idea -- let's do more of those!\n"
     ]
    }
   ],
   "source": [
    "# this provides the Zen of Python\n",
    "import this"
   ]
  },
  {
   "cell_type": "markdown",
   "metadata": {},
   "source": [
    "## Help and Documentation in IPython"
   ]
  },
  {
   "cell_type": "code",
   "execution_count": 3,
   "metadata": {},
   "outputs": [
    {
     "name": "stdout",
     "output_type": "stream",
     "text": [
      "Help on built-in function len in module builtins:\n",
      "\n",
      "len(obj, /)\n",
      "    Return the number of items in a container.\n",
      "\n"
     ]
    }
   ],
   "source": [
    "# Using built-in 'help()' function ----- with access information  and print it\n",
    "help(len)"
   ]
  },
  {
   "cell_type": "code",
   "execution_count": 4,
   "metadata": {},
   "outputs": [],
   "source": [
    "# Accessing documentation using '?' as a help ----to explore documentation and other relevant information\n",
    "# It can be used to explore any thing: built-in functions, methods, objects .....\n",
    "# ------MOST results below are printed in the pager of the Notebook---look below\n",
    "len?"
   ]
  },
  {
   "cell_type": "code",
   "execution_count": 5,
   "metadata": {},
   "outputs": [],
   "source": [
    "# List example \n",
    "L = [7, 9, 11, 15]\n",
    "L?"
   ]
  },
  {
   "cell_type": "code",
   "execution_count": 6,
   "metadata": {},
   "outputs": [],
   "source": [
    "L.insert?"
   ]
  },
  {
   "cell_type": "code",
   "execution_count": 20,
   "metadata": {},
   "outputs": [],
   "source": [
    "# Example function --- to look a source code\n",
    "def square(a):\n",
    "    \"\"\"Return the square of a.\"\"\"\n",
    "    return a ** 2"
   ]
  },
  {
   "cell_type": "code",
   "execution_count": 21,
   "metadata": {},
   "outputs": [],
   "source": [
    "# Accessing documentation\n",
    "square?"
   ]
  },
  {
   "cell_type": "code",
   "execution_count": 22,
   "metadata": {},
   "outputs": [],
   "source": [
    "#  Accessing source code using '??' --- it provides the info you get with '?' plus the \n",
    "# source code if it is implemented in Python; if not the same info as '?' \n",
    "square??"
   ]
  },
  {
   "cell_type": "markdown",
   "metadata": {},
   "source": [
    "###  Useful help using tab --- to explore modules with TAB\n",
    "===> Especially important in IPython Shell\n",
    "* Tab completion of object contents ---- object + TAB button\n",
    "* Tab completion when importing ----- import + TAB button, to see available tools in a package \n",
    "* Beyond tab completion---wildcard matching "
   ]
  },
  {
   "cell_type": "code",
   "execution_count": 23,
   "metadata": {},
   "outputs": [],
   "source": [
    "# Beyond tab completion---wildcard matching\n",
    "# Example ---to list every object in the namespace that ends with Warning \n",
    "*Warning?"
   ]
  },
  {
   "cell_type": "code",
   "execution_count": 24,
   "metadata": {},
   "outputs": [],
   "source": [
    "# Example---to look string method that contains the word find somewhere in its name\n",
    "str.*find*?"
   ]
  },
  {
   "cell_type": "markdown",
   "metadata": {},
   "source": [
    "### Magic commands  \n",
    "==> % and %%\n",
    "\n",
    "Mostly they are very crucial while using IPython Shell\n",
    "* Pasting Code Blocks: %paste and %cpaste\n",
    "* Running External Code: %run\n",
    "* Timing Code Execution: %timeit\n",
    "* Help on Magic Functions: ?, %magic, and %lsmagic"
   ]
  },
  {
   "cell_type": "code",
   "execution_count": 25,
   "metadata": {},
   "outputs": [
    {
     "name": "stdout",
     "output_type": "stream",
     "text": [
      "1.63 µs ± 24.9 ns per loop (mean ± std. dev. of 7 runs, 1000000 loops each)\n"
     ]
    }
   ],
   "source": [
    "%timeit sum(range(100))"
   ]
  },
  {
   "cell_type": "code",
   "execution_count": 26,
   "metadata": {},
   "outputs": [
    {
     "name": "stdout",
     "output_type": "stream",
     "text": [
      "318 µs ± 8.08 µs per loop (mean ± std. dev. of 7 runs, 1000 loops each)\n"
     ]
    }
   ],
   "source": [
    "# Time of excusion of for 'list of comprehension\n",
    "%timeit L = [n ** 2 for n in range(1000)]"
   ]
  },
  {
   "cell_type": "code",
   "execution_count": 27,
   "metadata": {},
   "outputs": [
    {
     "name": "stdout",
     "output_type": "stream",
     "text": [
      "365 µs ± 7.38 µs per loop (mean ± std. dev. of 7 runs, 1000 loops each)\n"
     ]
    }
   ],
   "source": [
    "%%timeit\n",
    "L1 = []\n",
    "for n in range(1000):\n",
    "    L1.append(n ** 2)\n",
    "    \n",
    "#  Time of excusion for 'for loop' \n",
    "## ---%%timeit must be at the first line, no any line including comments before it\n",
    "## ---Another fun fact---list comprehension is more efficient than append with for loop ---time of excusion"
   ]
  },
  {
   "cell_type": "code",
   "execution_count": 28,
   "metadata": {},
   "outputs": [],
   "source": [
    "# Read the documentation of the %timeit magic\n",
    "%timeit?"
   ]
  },
  {
   "cell_type": "code",
   "execution_count": 29,
   "metadata": {},
   "outputs": [],
   "source": [
    "# Access a general description of available magic functions\n",
    "%magic"
   ]
  },
  {
   "cell_type": "code",
   "execution_count": 30,
   "metadata": {},
   "outputs": [
    {
     "data": {
      "application/json": {
       "cell": {
        "!": "OSMagics",
        "HTML": "Other",
        "SVG": "Other",
        "bash": "Other",
        "capture": "ExecutionMagics",
        "cmd": "Other",
        "debug": "ExecutionMagics",
        "file": "Other",
        "html": "DisplayMagics",
        "javascript": "DisplayMagics",
        "js": "DisplayMagics",
        "latex": "DisplayMagics",
        "markdown": "DisplayMagics",
        "perl": "Other",
        "prun": "ExecutionMagics",
        "pypy": "Other",
        "python": "Other",
        "python2": "Other",
        "python3": "Other",
        "ruby": "Other",
        "script": "ScriptMagics",
        "sh": "Other",
        "svg": "DisplayMagics",
        "sx": "OSMagics",
        "system": "OSMagics",
        "time": "ExecutionMagics",
        "timeit": "ExecutionMagics",
        "writefile": "OSMagics"
       },
       "line": {
        "alias": "OSMagics",
        "alias_magic": "BasicMagics",
        "autoawait": "AsyncMagics",
        "autocall": "AutoMagics",
        "automagic": "AutoMagics",
        "autosave": "KernelMagics",
        "bookmark": "OSMagics",
        "cd": "OSMagics",
        "clear": "KernelMagics",
        "cls": "KernelMagics",
        "colors": "BasicMagics",
        "conda": "PackagingMagics",
        "config": "ConfigMagics",
        "connect_info": "KernelMagics",
        "copy": "Other",
        "ddir": "Other",
        "debug": "ExecutionMagics",
        "dhist": "OSMagics",
        "dirs": "OSMagics",
        "doctest_mode": "BasicMagics",
        "echo": "Other",
        "ed": "Other",
        "edit": "KernelMagics",
        "env": "OSMagics",
        "gui": "BasicMagics",
        "hist": "Other",
        "history": "HistoryMagics",
        "killbgscripts": "ScriptMagics",
        "ldir": "Other",
        "less": "KernelMagics",
        "load": "CodeMagics",
        "load_ext": "ExtensionMagics",
        "loadpy": "CodeMagics",
        "logoff": "LoggingMagics",
        "logon": "LoggingMagics",
        "logstart": "LoggingMagics",
        "logstate": "LoggingMagics",
        "logstop": "LoggingMagics",
        "ls": "Other",
        "lsmagic": "BasicMagics",
        "macro": "ExecutionMagics",
        "magic": "BasicMagics",
        "matplotlib": "PylabMagics",
        "mkdir": "Other",
        "more": "KernelMagics",
        "notebook": "BasicMagics",
        "page": "BasicMagics",
        "pastebin": "CodeMagics",
        "pdb": "ExecutionMagics",
        "pdef": "NamespaceMagics",
        "pdoc": "NamespaceMagics",
        "pfile": "NamespaceMagics",
        "pinfo": "NamespaceMagics",
        "pinfo2": "NamespaceMagics",
        "pip": "PackagingMagics",
        "popd": "OSMagics",
        "pprint": "BasicMagics",
        "precision": "BasicMagics",
        "prun": "ExecutionMagics",
        "psearch": "NamespaceMagics",
        "psource": "NamespaceMagics",
        "pushd": "OSMagics",
        "pwd": "OSMagics",
        "pycat": "OSMagics",
        "pylab": "PylabMagics",
        "qtconsole": "KernelMagics",
        "quickref": "BasicMagics",
        "recall": "HistoryMagics",
        "rehashx": "OSMagics",
        "reload_ext": "ExtensionMagics",
        "ren": "Other",
        "rep": "Other",
        "rerun": "HistoryMagics",
        "reset": "NamespaceMagics",
        "reset_selective": "NamespaceMagics",
        "rmdir": "Other",
        "run": "ExecutionMagics",
        "save": "CodeMagics",
        "sc": "OSMagics",
        "set_env": "OSMagics",
        "store": "StoreMagics",
        "sx": "OSMagics",
        "system": "OSMagics",
        "tb": "ExecutionMagics",
        "time": "ExecutionMagics",
        "timeit": "ExecutionMagics",
        "unalias": "OSMagics",
        "unload_ext": "ExtensionMagics",
        "who": "NamespaceMagics",
        "who_ls": "NamespaceMagics",
        "whos": "NamespaceMagics",
        "xdel": "NamespaceMagics",
        "xmode": "BasicMagics"
       }
      },
      "text/plain": [
       "Available line magics:\n",
       "%alias  %alias_magic  %autoawait  %autocall  %automagic  %autosave  %bookmark  %cd  %clear  %cls  %colors  %conda  %config  %connect_info  %copy  %ddir  %debug  %dhist  %dirs  %doctest_mode  %echo  %ed  %edit  %env  %gui  %hist  %history  %killbgscripts  %ldir  %less  %load  %load_ext  %loadpy  %logoff  %logon  %logstart  %logstate  %logstop  %ls  %lsmagic  %macro  %magic  %matplotlib  %mkdir  %more  %notebook  %page  %pastebin  %pdb  %pdef  %pdoc  %pfile  %pinfo  %pinfo2  %pip  %popd  %pprint  %precision  %prun  %psearch  %psource  %pushd  %pwd  %pycat  %pylab  %qtconsole  %quickref  %recall  %rehashx  %reload_ext  %ren  %rep  %rerun  %reset  %reset_selective  %rmdir  %run  %save  %sc  %set_env  %store  %sx  %system  %tb  %time  %timeit  %unalias  %unload_ext  %who  %who_ls  %whos  %xdel  %xmode\n",
       "\n",
       "Available cell magics:\n",
       "%%!  %%HTML  %%SVG  %%bash  %%capture  %%cmd  %%debug  %%file  %%html  %%javascript  %%js  %%latex  %%markdown  %%perl  %%prun  %%pypy  %%python  %%python2  %%python3  %%ruby  %%script  %%sh  %%svg  %%sx  %%system  %%time  %%timeit  %%writefile\n",
       "\n",
       "Automagic is ON, % prefix IS NOT needed for line magics."
      ]
     },
     "execution_count": 30,
     "metadata": {},
     "output_type": "execute_result"
    }
   ],
   "source": [
    "# For quick and simple list of all available magic functions\n",
    "%lsmagic"
   ]
  },
  {
   "cell_type": "code",
   "execution_count": 31,
   "metadata": {},
   "outputs": [],
   "source": [
    "# A function to sum a list of numbers\n",
    "def sum_of_lists(N):\n",
    "    total = 0\n",
    "    for i in range(5):\n",
    "        L = [j ^ (j >> i) for j in range(N)]\n",
    "        total += sum(L)\n",
    "    return total"
   ]
  },
  {
   "cell_type": "code",
   "execution_count": 32,
   "metadata": {},
   "outputs": [
    {
     "name": "stdout",
     "output_type": "stream",
     "text": [
      " "
     ]
    }
   ],
   "source": [
    "# running the above function\n",
    "%prun sum_of_lists(1000000)  # result in the pager"
   ]
  },
  {
   "cell_type": "markdown",
   "metadata": {},
   "source": [
    "### Other commands\n",
    "* echo 'Hello World!' --- to print eg:\"Hello World!\"\n",
    "* pwd --- print working directory\n",
    "* ls  ---  list the files\n",
    "* mkdir myproject ---  make new directory\n",
    "* cd myproject/   --- change directory\n",
    "* mv ../myproject.txt ./ --- move file. Here we're move file myproject.txt  from one directoryup (../) to the current directory (./)\n",
    "\n",
    "......................................... AND more"
   ]
  },
  {
   "cell_type": "markdown",
   "metadata": {},
   "source": [
    "## Variables\n",
    "Variable is a name used to denote something or a value. "
   ]
  },
  {
   "cell_type": "code",
   "execution_count": 33,
   "metadata": {},
   "outputs": [
    {
     "name": "stdout",
     "output_type": "stream",
     "text": [
      "Hello Python world!\n"
     ]
    }
   ],
   "source": [
    "# Assigning variable and printing\n",
    "message = \"Hello Python world!\"\n",
    "print(message)"
   ]
  },
  {
   "cell_type": "code",
   "execution_count": 34,
   "metadata": {},
   "outputs": [
    {
     "name": "stdout",
     "output_type": "stream",
     "text": [
      "Gondar, Ethiopia.\n"
     ]
    }
   ],
   "source": [
    "#Changing case in a string using built-in method\n",
    "name = \"gondar, ethiopia.\"\n",
    "print(name.title())"
   ]
  },
  {
   "cell_type": "code",
   "execution_count": 35,
   "metadata": {},
   "outputs": [
    {
     "name": "stdout",
     "output_type": "stream",
     "text": [
      "ADDIS ABABA\n",
      "addis ababa\n"
     ]
    }
   ],
   "source": [
    "# Changing the whole word to upper and lower cases\n",
    "name = \"Addis Ababa\"\n",
    "print(name.upper())\n",
    "print(name.lower())"
   ]
  },
  {
   "cell_type": "markdown",
   "metadata": {},
   "source": [
    "## Operators\n",
    "There are several categories of operators such as arithmetic, relational, and bitwise operators. \n",
    "\n",
    "1. Arithmetic Operators\n",
    "| Symbol | Task Performed | Note|\n",
    "|----|---|----|\n",
    "| +  | Addition |\n",
    "| -  | Subtraction |\n",
    "| /  | division |\n",
    "| %  | mod |returns the remainder of the division |\n",
    "| *  | multiplication |\n",
    "| //  | floor division | discards the fractional part |\n",
    "| **  | to the power of | \n",
    "\n",
    "2. Relational Operators\n",
    "| Symbol | Task Performed |\n",
    "|----|---|\n",
    "| == | True, if it is equal |\n",
    "| !=  | True, if not equal to |\n",
    "| < | less than |\n",
    "| > | greater than |\n",
    "| <=  | less than or equal to |\n",
    "| >=  | greater than or equal to |\n",
    "3. Bitwise Operators\n",
    "| Symbol | Task Performed |\n",
    "|----|---|\n",
    "| &  | Logical And |\n",
    "| l  | Logical OR |\n",
    "| ^  | XOR |\n",
    "| ~  | Negate |\n",
    "| >>  | Right shift |\n",
    "| <<  | Left shift |\n",
    "\n",
    "4. Operations on Any Sequence in Python\n",
    "\n",
    " |   **Operation Name** |  **Operator** |    **Explanation**|\n",
    " |-----------------------| ----------- |---------------------|\n",
    " |        indexing |            [ ]       |    Access an element of a sequence|\n",
    " |  concatenation    |          \\+       |    Combine sequences together|\n",
    " |    repetition      |        \\*  |  Concatenate a repeated number of times|\n",
    " |    membership  |            in |     Ask whether an item is in a sequence|\n",
    " |          length      |       len  | Ask the number of items in the sequence|\n",
    " |      slicing      |     [ : ]       |       Extract a part of a sequence|\n"
   ]
  },
  {
   "cell_type": "code",
   "execution_count": 36,
   "metadata": {
    "scrolled": true
   },
   "outputs": [
    {
     "name": "stdout",
     "output_type": "stream",
     "text": [
      "10\n",
      "2\n",
      "..........................\n",
      "True\n",
      "False\n",
      "..........................\n",
      "2\n",
      "0b10\n",
      "3\n",
      "0b11\n",
      "2\n",
      "10\n"
     ]
    }
   ],
   "source": [
    "# Example of different operations\n",
    "print(32//3)\n",
    "print(32%3)\n",
    "print(\"..........................\")\n",
    "x = 1\n",
    "print(x==1)\n",
    "print(x!=1)\n",
    "print(\"..........................\")\n",
    "a=2 # bit value 10\n",
    "b=3 # bit value 11\n",
    "print(a&b)\n",
    "print(bin(a&b))\n",
    "print(a|b)\n",
    "print(bin(a|b))\n",
    "print(5>>1)  \n",
    "    # 0000 0101 -> 5\n",
    "    # Shifting the digits by 1 to the right and zero padding \n",
    "    # 0000 0010 -> 2\n",
    "print(5<<1)  \n",
    "    # 0000 0101 -> 5\n",
    "    # Shifting the digits by 1 to the left and zero padding \n",
    "    # 0000 1010 -> 10   "
   ]
  },
  {
   "cell_type": "code",
   "execution_count": 37,
   "metadata": {},
   "outputs": [
    {
     "name": "stdout",
     "output_type": "stream",
     "text": [
      "alebel baye\n"
     ]
    }
   ],
   "source": [
    "# Concatenation of variables\n",
    "first_name = \"alebel\"\n",
    "last_name = \"baye\"\n",
    "full_name = first_name + \" \" + last_name\n",
    "print(full_name)"
   ]
  },
  {
   "cell_type": "code",
   "execution_count": 38,
   "metadata": {},
   "outputs": [
    {
     "name": "stdout",
     "output_type": "stream",
     "text": [
      "His name is Alebel Baye!\n"
     ]
    }
   ],
   "source": [
    "# Concatenation + case changing\n",
    "first_name = \"alebel\"\n",
    "last_name = \"baye\"\n",
    "full_name = first_name + \" \" + last_name\n",
    "print(\"His name is\", full_name.title() + \"!\")"
   ]
  },
  {
   "cell_type": "code",
   "execution_count": 39,
   "metadata": {
    "scrolled": true
   },
   "outputs": [
    {
     "name": "stdout",
     "output_type": "stream",
     "text": [
      "\tThis is Python Basics.\n",
      "\n",
      "---------\n",
      "Data Types:\n",
      "List\n",
      "Tuple\n",
      "Set\n",
      "Dictionary\n",
      "\n",
      "---------\n",
      "Data Types:\n",
      "\tList\n",
      "\tTuple\n",
      "\tSet\n",
      "\tDictionary\n"
     ]
    }
   ],
   "source": [
    "# Adding whitespace with Tabs \n",
    "print(\"\\tThis is Python Basics.\")\n",
    "print(\"\"\"\\n---------\"\"\")\n",
    "\n",
    "# Printing at newlines\n",
    "print(\"Data Types:\\nList\\nTuple\\nSet\\nDictionary\")\n",
    "print(\"\"\"\\n---------\"\"\")\n",
    "\n",
    "# Tab and Newlines\n",
    "print(\"Data Types:\\n\\tList\\n\\tTuple\\n\\tSet\\n\\tDictionary\")"
   ]
  },
  {
   "cell_type": "markdown",
   "metadata": {},
   "source": [
    "## Control Structures\n",
    "Control structures are very useful to implement algorithms for solving problems using programming languages such as Python. Iteration and selection are the two important control structures based on necessity. For iteration, 'While loop' and 'for loop' statements are used to repeat a body of code as long as a conditions evaluates to 'True'. For selection, 'If  else\" statement is used. "
   ]
  },
  {
   "cell_type": "code",
   "execution_count": 40,
   "metadata": {},
   "outputs": [
    {
     "name": "stdout",
     "output_type": "stream",
     "text": [
      "While loop example.\n",
      "While loop example.\n",
      "While loop example.\n",
      "While loop example.\n",
      "While loop example.\n",
      "While loop example.\n",
      "While loop example.\n"
     ]
    }
   ],
   "source": [
    "# Iteration using while loop\n",
    "counting = 1\n",
    "while counting <= 7:\n",
    "    print(\"While loop example.\")\n",
    "    counting = counting + 1"
   ]
  },
  {
   "cell_type": "code",
   "execution_count": 41,
   "metadata": {},
   "outputs": [
    {
     "name": "stdout",
     "output_type": "stream",
     "text": [
      "0,1,1,2,3,5,8,13,21,34,55,89,144,233,377,610,987,1597,2584,4181,6765,10946,17711,28657,46368,75025,"
     ]
    }
   ],
   "source": [
    "# Fibonacci series---- using while loop \n",
    "a, b = 0, 1\n",
    "while a < 100000:\n",
    "    print(a, end=',')\n",
    "    a, b = b, a+b"
   ]
  },
  {
   "cell_type": "code",
   "execution_count": 42,
   "metadata": {},
   "outputs": [
    {
     "name": "stdout",
     "output_type": "stream",
     "text": [
      "1\n",
      "3\n",
      "6\n",
      "2\n",
      "5\n"
     ]
    }
   ],
   "source": [
    "# Iteration using for loop\n",
    "for value in [1, 3, 6, 2, 5]:\n",
    "    print(value)"
   ]
  },
  {
   "cell_type": "code",
   "execution_count": 43,
   "metadata": {},
   "outputs": [
    {
     "name": "stdout",
     "output_type": "stream",
     "text": [
      "0\n",
      "1\n",
      "4\n",
      "9\n",
      "16\n",
      "25\n"
     ]
    }
   ],
   "source": [
    "# Iteration using for loop \n",
    "for  i in range(6):\n",
    "    print(i**2)"
   ]
  },
  {
   "cell_type": "code",
   "execution_count": 44,
   "metadata": {},
   "outputs": [
    {
     "name": "stdout",
     "output_type": "stream",
     "text": [
      "Hello Alemu!\n",
      "Hello Megersa!\n",
      "Hello Kassaw!\n"
     ]
    }
   ],
   "source": [
    "# Saying Hello to friends\n",
    "friends = [\"Alemu\", \"Megersa\", \"Kassaw\"]\n",
    "for name in friends:\n",
    "    print(\"Hello\",name + \"!\")"
   ]
  },
  {
   "cell_type": "code",
   "execution_count": 45,
   "metadata": {},
   "outputs": [
    {
     "name": "stdout",
     "output_type": "stream",
     "text": [
      "Whatelse should I get? Beer\n",
      "Do not forget to get Orange\n",
      "Do not forget to get Potatoe\n",
      "Do not forget to get Mango\n"
     ]
    }
   ],
   "source": [
    "shopping_list =  [\"Orange\", \"Potatoe\", \"Mango\"]\n",
    "product = input(\"Whatelse should I get? \")\n",
    "\n",
    "for item in shopping_list:\n",
    "    \n",
    "    print(\"Do not forget to get {}\".format(item))"
   ]
  },
  {
   "cell_type": "code",
   "execution_count": 52,
   "metadata": {},
   "outputs": [
    {
     "name": "stdout",
     "output_type": "stream",
     "text": [
      "Whatelse should I get? Beer\n",
      "Do not forget to get Orange\n",
      "Do not forget to get Potatoe\n",
      "Do not forget to get Mango\n",
      "Are you old to buy a beer?\n",
      "Do not forget to get Beer\n"
     ]
    }
   ],
   "source": [
    "# Location of statements matters --- look print statement compared to the next cell\n",
    "shopping_list =  [\"Orange\", \"Potatoe\", \"Mango\"]\n",
    "item = input(\"Whatelse should I get? \")\n",
    "shopping_list.append(item)\n",
    "\n",
    "for item in shopping_list:\n",
    "    if item == \"Beer\":\n",
    "        print(\"Are you old to buy a beer?\")\n",
    "    print(\"Do not forget to get {}\".format(item))"
   ]
  },
  {
   "cell_type": "code",
   "execution_count": 48,
   "metadata": {},
   "outputs": [
    {
     "name": "stdout",
     "output_type": "stream",
     "text": [
      "Whatelse should I get? Beer\n",
      "Do not forget to get Orange\n",
      "Do not forget to get Potatoe\n",
      "Do not forget to get Mango\n",
      "Do not forget to get Beer\n",
      "Are you old to buy a beer?\n"
     ]
    }
   ],
   "source": [
    "shopping_list =  [\"Orange\", \"Potatoe\", \"Mango\"]\n",
    "item = input(\"Whatelse should I get? \")\n",
    "shopping_list.append(item)\n",
    "\n",
    "for item in shopping_list:\n",
    "    print(\"Do not forget to get {}\".format(item))\n",
    "    if item == \"Beer\":\n",
    "        print(\"Are you old to buy a beer?\")\n",
    "    "
   ]
  },
  {
   "cell_type": "code",
   "execution_count": 50,
   "metadata": {},
   "outputs": [
    {
     "name": "stdout",
     "output_type": "stream",
     "text": [
      "4\n",
      "9\n",
      "15\n",
      "22\n",
      "30\n"
     ]
    }
   ],
   "source": [
    "# Notice the location of print statement\n",
    "alist =  [4, 5, 6, 7, 8]\n",
    "total = 0 # Place holder\n",
    "for num in alist:\n",
    "    total = total + num\n",
    "    print(total) "
   ]
  },
  {
   "cell_type": "code",
   "execution_count": 51,
   "metadata": {},
   "outputs": [
    {
     "name": "stdout",
     "output_type": "stream",
     "text": [
      "30\n"
     ]
    }
   ],
   "source": [
    "# provides the sum of all only\n",
    "alist =  [4, 5, 6, 7, 8]\n",
    "total = 0 # Place holder\n",
    "for num in alist:\n",
    "    total = total + num\n",
    "print(total)"
   ]
  },
  {
   "cell_type": "code",
   "execution_count": 49,
   "metadata": {},
   "outputs": [
    {
     "name": "stdout",
     "output_type": "stream",
     "text": [
      "['c', 'a', 't']\n",
      "['c', 'a', 't', 'd', 'o', 'g']\n",
      "['c', 'a', 't', 'd', 'o', 'g', 'r', 'a', 'b', 'b', 'i', 't']\n"
     ]
    }
   ],
   "source": [
    "# Fragment of element of the list --- iterates over a list of strings and for each string processes each character by appending it to a list\n",
    "word_list = [\"cat\", \"dog\", \"rabbit\"]\n",
    "letter_list = [ ]\n",
    "for a_word in word_list:\n",
    "    for a_letter in a_word:\n",
    "        letter_list.append(a_letter)\n",
    "    print(letter_list)"
   ]
  },
  {
   "cell_type": "code",
   "execution_count": 32,
   "metadata": {},
   "outputs": [
    {
     "name": "stdout",
     "output_type": "stream",
     "text": [
      "3.1622776601683795\n"
     ]
    }
   ],
   "source": [
    "# Selection control structure\n",
    "import math\n",
    "x = 10\n",
    "if x < 0:\n",
    "    print(\"Sorry, the value is negative\")   # \n",
    "else:\n",
    "    print(math.sqrt(x))  # if this was in the 'if' part instead of 'else'; nagative value will give value error\n",
    "    "
   ]
  },
  {
   "cell_type": "code",
   "execution_count": 33,
   "metadata": {},
   "outputs": [
    {
     "name": "stdout",
     "output_type": "stream",
     "text": [
      "C\n"
     ]
    }
   ],
   "source": [
    "# Selection control structure\n",
    "# Order of the code matters -----\n",
    "score = 70\n",
    "if score >= 90:\n",
    "    print(\"A\")\n",
    "else:\n",
    "    if score >= 80:\n",
    "        print(\"B\")\n",
    "    else:\n",
    "        if score >= 70:\n",
    "            print(\"C\")\n",
    "        else:\n",
    "            if score >= 60:\n",
    "                print(\"D\")\n",
    "            else:\n",
    "                print(\"F\")"
   ]
  },
  {
   "cell_type": "code",
   "execution_count": 34,
   "metadata": {},
   "outputs": [
    {
     "name": "stdout",
     "output_type": "stream",
     "text": [
      "C\n"
     ]
    }
   ],
   "source": [
    "# Selection control structure  ----- Alternative for the above\n",
    "# Order of the code mathers -----\n",
    "score = 70\n",
    "if score >= 90:\n",
    "    print(\"A\")\n",
    "elif score >= 80:\n",
    "    print(\"B\")\n",
    "elif score >= 70:\n",
    "    print(\"C\")\n",
    "elif score >= 60:\n",
    "    print(\"D\")\n",
    "else:\n",
    "    print(\"F\")"
   ]
  },
  {
   "cell_type": "markdown",
   "metadata": {},
   "source": [
    "## Data Types\n",
    "* Numeric types: int, float, complex\n",
    "* Iterator types: generator\n",
    "* Sequence types: lists, tuple, range\n",
    "* Text sequence types: Strings -- str\n",
    "* Binary sequence types: bytes, bytearray, memoryview  \n",
    "* Set types: set \n",
    "* Mapping types: dictionary --dict \n",
    "\n",
    "Some examples:\n",
    "\n",
    "    - %s -> string\n",
    "    - %d -> Integer\n",
    "    - %f -> Float\n",
    "    - %o -> Octal\n",
    "    - %x -> Hexadecimal\n",
    "    - %e -> exponential   \n",
    "This can be used for conversions inside the print statement itself."
   ]
  },
  {
   "cell_type": "code",
   "execution_count": 35,
   "metadata": {},
   "outputs": [
    {
     "name": "stdout",
     "output_type": "stream",
     "text": [
      "Hello World!\n",
      "Actual Number = 18\n",
      "Float of the number = 18.000000\n",
      "Octal equivalent of the number = 22\n",
      "Hexadecimal equivalent of the number = 12\n",
      "Exponential equivalent of the number = 1.800000e+01\n"
     ]
    }
   ],
   "source": [
    "string1 = 'World!'\n",
    "print(\"Hello %s\" % string1)\n",
    "print(\"Actual Number = %d\" %18)\n",
    "print(\"Float of the number = %f\" %18)\n",
    "print(\"Octal equivalent of the number = %o\" %18)\n",
    "print(\"Hexadecimal equivalent of the number = %x\" %18)\n",
    "print(\"Exponential equivalent of the number = %e\" %18)"
   ]
  },
  {
   "cell_type": "code",
   "execution_count": 36,
   "metadata": {},
   "outputs": [
    {
     "name": "stdout",
     "output_type": "stream",
     "text": [
      "['trek', 'cannondale', 'redline', 'specialized']\n"
     ]
    }
   ],
   "source": [
    "# List\n",
    "## Lists work well for storing sets of items that can change throughout the life of a program\n",
    "bicycles = ['trek', 'cannondale', 'redline', 'specialized']\n",
    "print(bicycles)"
   ]
  },
  {
   "cell_type": "code",
   "execution_count": 37,
   "metadata": {},
   "outputs": [
    {
     "data": {
      "text/plain": [
       "'trek'"
      ]
     },
     "execution_count": 37,
     "metadata": {},
     "output_type": "execute_result"
    }
   ],
   "source": [
    "bicycles[0] # indexing left to write, indexing starts at zero"
   ]
  },
  {
   "cell_type": "code",
   "execution_count": 38,
   "metadata": {},
   "outputs": [
    {
     "data": {
      "text/plain": [
       "'specialized'"
      ]
     },
     "execution_count": 38,
     "metadata": {},
     "output_type": "execute_result"
    }
   ],
   "source": [
    "bicycles[-1] # indexing right to left using negetative indexing which starts at -1"
   ]
  },
  {
   "cell_type": "code",
   "execution_count": 39,
   "metadata": {},
   "outputs": [
    {
     "name": "stdout",
     "output_type": "stream",
     "text": [
      "['honda', 'yamaha', 'suzuki']\n"
     ]
    }
   ],
   "source": [
    "# Creating List using append function\n",
    "motorcycles = []\n",
    "motorcycles.append('honda')\n",
    "motorcycles.append('yamaha')\n",
    "motorcycles.append('suzuki')\n",
    "print(motorcycles)"
   ]
  },
  {
   "cell_type": "code",
   "execution_count": 40,
   "metadata": {},
   "outputs": [
    {
     "name": "stdout",
     "output_type": "stream",
     "text": [
      "['honda', 'yamaha', 'suzuki', 'ducati']\n"
     ]
    }
   ],
   "source": [
    "# append adds at the end\n",
    "motorcycles.append('ducati')\n",
    "print(motorcycles)"
   ]
  },
  {
   "cell_type": "code",
   "execution_count": 41,
   "metadata": {},
   "outputs": [
    {
     "name": "stdout",
     "output_type": "stream",
     "text": [
      "['ducati2', 'honda', 'yamaha', 'suzuki', 'ducati']\n"
     ]
    }
   ],
   "source": [
    "# insert puts the element at any designated place\n",
    "motorcycles.insert(0, 'ducati2')\n",
    "print(motorcycles)"
   ]
  },
  {
   "cell_type": "code",
   "execution_count": 42,
   "metadata": {},
   "outputs": [
    {
     "name": "stdout",
     "output_type": "stream",
     "text": [
      "['honda', 'yamaha', 'suzuki', 'ducati']\n"
     ]
    }
   ],
   "source": [
    "# Removing an item using del --- needs to specify index number\n",
    "del motorcycles[0]\n",
    "print(motorcycles)"
   ]
  },
  {
   "cell_type": "code",
   "execution_count": 43,
   "metadata": {},
   "outputs": [
    {
     "name": "stdout",
     "output_type": "stream",
     "text": [
      "['honda', 'yamaha', 'suzuki']\n",
      "ducati\n"
     ]
    }
   ],
   "source": [
    "# Removing an item using the pop() method---it removes the last item\n",
    "popped_motorcycles = motorcycles.pop() # the popped item stored as a variable (popped_motorcycles)\n",
    "print(motorcycles)\n",
    "print(popped_motorcycles)"
   ]
  },
  {
   "cell_type": "code",
   "execution_count": 44,
   "metadata": {},
   "outputs": [
    {
     "name": "stdout",
     "output_type": "stream",
     "text": [
      "['honda', 'yamaha', 'suzuki', 'ducati']\n",
      "['honda', 'yamaha', 'suzuki']\n",
      "\n",
      "A Ducati is too expensive for me.\n"
     ]
    }
   ],
   "source": [
    "# Remove an item using the remove() method\n",
    "motorcycles = ['honda', 'yamaha', 'suzuki', 'ducati']\n",
    "print(motorcycles)\n",
    "\n",
    "too_expensive = 'ducati'\n",
    "motorcycles.remove(too_expensive)\n",
    "print(motorcycles)\n",
    "print(\"\\nA \" + too_expensive.title() + \" is too expensive for me.\")"
   ]
  },
  {
   "cell_type": "code",
   "execution_count": 45,
   "metadata": {},
   "outputs": [
    {
     "name": "stdout",
     "output_type": "stream",
     "text": [
      "Here is the original list:\n",
      "['honda', 'yamaha', 'suzuki']\n",
      "\n",
      "Here is the sorted list:\n",
      "['honda', 'suzuki', 'yamaha']\n",
      "\n",
      "Here is the original list again:\n",
      "['honda', 'yamaha', 'suzuki']\n"
     ]
    }
   ],
   "source": [
    "#sorting a list ---  using sorted() function-- Temporary sorting sorting\n",
    "print(\"Here is the original list:\")\n",
    "print(motorcycles)\n",
    "\n",
    "print(\"\\nHere is the sorted list:\")  # if sorted data is needed, assign it to a new variable\n",
    "print(sorted(motorcycles))\n",
    "\n",
    "print(\"\\nHere is the original list again:\")\n",
    "print(motorcycles)"
   ]
  },
  {
   "cell_type": "code",
   "execution_count": 46,
   "metadata": {},
   "outputs": [
    {
     "name": "stdout",
     "output_type": "stream",
     "text": [
      "['honda', 'suzuki', 'yamaha']\n"
     ]
    }
   ],
   "source": [
    "#sorting a list ---  using sort() function-- Permanent sorting \n",
    "motorcycles.sort()\n",
    "print(motorcycles)\n",
    "# motorcycles.sort(reverse=True)\n",
    "# print(motorcycles)"
   ]
  },
  {
   "cell_type": "code",
   "execution_count": 47,
   "metadata": {},
   "outputs": [
    {
     "name": "stdout",
     "output_type": "stream",
     "text": [
      "['yamaha', 'suzuki', 'honda']\n"
     ]
    }
   ],
   "source": [
    "# Printing a list in reverse order\n",
    "motorcycles.reverse()\n",
    "print(motorcycles)"
   ]
  },
  {
   "cell_type": "code",
   "execution_count": 48,
   "metadata": {},
   "outputs": [
    {
     "name": "stdout",
     "output_type": "stream",
     "text": [
      "['honda', 'suzuki', 'yamaha']\n"
     ]
    }
   ],
   "source": [
    "# Printing a list by reversing again\n",
    "motorcycles.reverse()\n",
    "print(motorcycles)"
   ]
  },
  {
   "cell_type": "code",
   "execution_count": 49,
   "metadata": {},
   "outputs": [
    {
     "data": {
      "text/plain": [
       "3"
      ]
     },
     "execution_count": 49,
     "metadata": {},
     "output_type": "execute_result"
    }
   ],
   "source": [
    "# Finding length of a list\n",
    "len(motorcycles)"
   ]
  },
  {
   "cell_type": "code",
   "execution_count": 50,
   "metadata": {},
   "outputs": [
    {
     "name": "stdout",
     "output_type": "stream",
     "text": [
      "honda\n",
      "suzuki\n",
      "yamaha\n"
     ]
    }
   ],
   "source": [
    "# Looping thru a list\n",
    "for motorcycle in motorcycles:\n",
    "    print(motorcycle)"
   ]
  },
  {
   "cell_type": "code",
   "execution_count": 51,
   "metadata": {},
   "outputs": [
    {
     "name": "stdout",
     "output_type": "stream",
     "text": [
      "Alene, that was a great presentation!\n",
      "Shiferaw, that was a great presentation!\n",
      "Berhanu, that was a great presentation!\n",
      "Markos, that was a great presentation!\n"
     ]
    }
   ],
   "source": [
    "# Doing more work with for loop\n",
    "presenters = ['alene', 'shiferaw', 'berhanu', 'markos']\n",
    "for presenter in presenters:\n",
    "    print(presenter.title() + \", that was a great presentation!\")"
   ]
  },
  {
   "cell_type": "code",
   "execution_count": 52,
   "metadata": {},
   "outputs": [
    {
     "name": "stdout",
     "output_type": "stream",
     "text": [
      "Alene, that was a great presentation!\n",
      "I can't wait to see your next presentation, Alene.\n",
      "\n",
      "Shiferaw, that was a great presentation!\n",
      "I can't wait to see your next presentation, Shiferaw.\n",
      "\n",
      "Berhanu, that was a great presentation!\n",
      "I can't wait to see your next presentation, Berhanu.\n",
      "\n",
      "Markos, that was a great presentation!\n",
      "I can't wait to see your next presentation, Markos.\n",
      "\n",
      "Thank you, everyone. That was a great workshop!\n"
     ]
    }
   ],
   "source": [
    "# Doing something after more a for loop \n",
    "presenters = ['alene', 'shiferaw', 'berhanu', 'markos']\n",
    "for presenter in presenters:\n",
    "    print(presenter.title() + \", that was a great presentation!\")\n",
    "    print(\"I can't wait to see your next presentation, \" + presenter.title() + \".\\n\")\n",
    "print(\"Thank you, everyone. That was a great workshop!\")"
   ]
  },
  {
   "cell_type": "code",
   "execution_count": 53,
   "metadata": {},
   "outputs": [
    {
     "name": "stdout",
     "output_type": "stream",
     "text": [
      "Alene, that was a great presentation!\n",
      "I can't wait to see your next presentation, Alene.\n",
      "\n",
      "Thank you, everyone. That was a great workshop!\n",
      "Shiferaw, that was a great presentation!\n",
      "I can't wait to see your next presentation, Shiferaw.\n",
      "\n",
      "Thank you, everyone. That was a great workshop!\n",
      "Berhanu, that was a great presentation!\n",
      "I can't wait to see your next presentation, Berhanu.\n",
      "\n",
      "Thank you, everyone. That was a great workshop!\n",
      "Markos, that was a great presentation!\n",
      "I can't wait to see your next presentation, Markos.\n",
      "\n",
      "Thank you, everyone. That was a great workshop!\n"
     ]
    }
   ],
   "source": [
    "# Doing something after more a for loop ---- Unnecessary indenting, ***\n",
    "presenters = ['alene', 'shiferaw', 'berhanu', 'markos']\n",
    "for presenter in presenters:\n",
    "    print(presenter.title() + \", that was a great presentation!\")\n",
    "    print(\"I can't wait to see your next presentation, \" + presenter.title() + \".\\n\")\n",
    "    print(\"Thank you, everyone. That was a great workshop!\")"
   ]
  },
  {
   "cell_type": "code",
   "execution_count": 54,
   "metadata": {},
   "outputs": [
    {
     "name": "stdout",
     "output_type": "stream",
     "text": [
      "0\n",
      "1\n",
      "2\n",
      "3\n",
      "4\n",
      "-------------\n",
      "1\n",
      "2\n",
      "3\n",
      "4\n"
     ]
    }
   ],
   "source": [
    "# Using range() function\n",
    "for value in range(5):\n",
    "    print(value)\n",
    "    \n",
    "print('-------------')\n",
    "\n",
    "for value in range(1,5):\n",
    "    print(value)"
   ]
  },
  {
   "cell_type": "code",
   "execution_count": 55,
   "metadata": {},
   "outputs": [
    {
     "name": "stdout",
     "output_type": "stream",
     "text": [
      "[1, 2, 3, 4]\n"
     ]
    }
   ],
   "source": [
    "#Using range() to Make a List of Numbers\n",
    "numbers = list(range(1,5))\n",
    "print(numbers)"
   ]
  },
  {
   "cell_type": "code",
   "execution_count": 56,
   "metadata": {},
   "outputs": [
    {
     "name": "stdout",
     "output_type": "stream",
     "text": [
      "[1, 4, 9, 16, 25, 36, 49, 64, 81, 100, 121, 144, 169, 196, 225, 256, 289, 324, 361, 400]\n"
     ]
    }
   ],
   "source": [
    "#Using range() to Make a List of Numbers\n",
    "squares = []\n",
    "for value in range (1, 21):\n",
    "    square = value**2\n",
    "    squares.append(square)\n",
    "print(squares)"
   ]
  },
  {
   "cell_type": "code",
   "execution_count": 57,
   "metadata": {},
   "outputs": [
    {
     "name": "stdout",
     "output_type": "stream",
     "text": [
      "[1, 4, 9, 16, 25, 36, 49, 64, 81, 100, 121, 144, 169, 196, 225, 256, 289, 324, 361, 400]\n"
     ]
    }
   ],
   "source": [
    "# List comprehension--Shorter form of the above\n",
    "squares = [value**2 for value in range(1,21)]\n",
    "print(squares)"
   ]
  },
  {
   "cell_type": "code",
   "execution_count": 58,
   "metadata": {},
   "outputs": [
    {
     "name": "stdout",
     "output_type": "stream",
     "text": [
      "The minimum value is:  1\n",
      "The maximum value is:  11\n",
      "The sum is:  66\n"
     ]
    }
   ],
   "source": [
    "# calculating some statistics of a list using in-built functions\n",
    "digits = [ 6, 7, 8, 11, 9, 1, 2, 3, 4, 5, 10]\n",
    "print('The minimum value is: ', min(digits))\n",
    "print('The maximum value is: ',max(digits))\n",
    "print('The sum is: ',sum(digits))"
   ]
  },
  {
   "cell_type": "code",
   "execution_count": 59,
   "metadata": {},
   "outputs": [
    {
     "name": "stdout",
     "output_type": "stream",
     "text": [
      "['orange', 'blueberry']\n",
      "mango\n",
      "['mango', 'orange']\n",
      "['blueberry', 'strawberry', 'banana']\n"
     ]
    }
   ],
   "source": [
    "# Slicing of a list\n",
    "fruits = ['mango', 'orange', 'blueberry', 'strawberry', 'banana']\n",
    "print(fruits[1:3])\n",
    "print(fruits[0])\n",
    "print(fruits[:2])\n",
    "print(fruits[2:])"
   ]
  },
  {
   "cell_type": "code",
   "execution_count": 60,
   "metadata": {},
   "outputs": [
    {
     "name": "stdout",
     "output_type": "stream",
     "text": [
      "My favorite foods are:\n",
      "['pizza', 'falafel', 'carrot cake']\n",
      "\n",
      "My friend's favorite foods are:\n",
      "['pizza', 'falafel', 'carrot cake']\n"
     ]
    }
   ],
   "source": [
    "# Copying a list\n",
    "my_foods = ['pizza', 'falafel', 'carrot cake']\n",
    "friend_foods = my_foods[:]\n",
    "print(\"My favorite foods are:\")\n",
    "print(my_foods)\n",
    "print(\"\\nMy friend's favorite foods are:\")\n",
    "print(friend_foods)"
   ]
  },
  {
   "cell_type": "code",
   "execution_count": 61,
   "metadata": {},
   "outputs": [
    {
     "name": "stdout",
     "output_type": "stream",
     "text": [
      "My favorite foods are:\n",
      "['pizza', 'falafel', 'carrot cake', 'cannoli']\n",
      "\n",
      "My friend's favorite foods are:\n",
      "['pizza', 'falafel', 'carrot cake', 'ice cream']\n"
     ]
    }
   ],
   "source": [
    "# Copying a list --- and manipulating using append function\n",
    "my_foods = ['pizza', 'falafel', 'carrot cake']\n",
    "friend_foods = my_foods[:]\n",
    "my_foods.append('cannoli')\n",
    "friend_foods.append('ice cream')\n",
    "print(\"My favorite foods are:\")\n",
    "print(my_foods)\n",
    "print(\"\\nMy friend's favorite foods are:\")\n",
    "print(friend_foods)"
   ]
  },
  {
   "cell_type": "code",
   "execution_count": 62,
   "metadata": {},
   "outputs": [
    {
     "name": "stdout",
     "output_type": "stream",
     "text": [
      "200\n",
      "50\n"
     ]
    }
   ],
   "source": [
    "# Tuple ---- used to creat list of items that cannot be changed\n",
    "dimensions = (200, 50)\n",
    "print(dimensions[0])\n",
    "print(dimensions[1])"
   ]
  },
  {
   "cell_type": "code",
   "execution_count": 63,
   "metadata": {
    "scrolled": true
   },
   "outputs": [
    {
     "name": "stdout",
     "output_type": "stream",
     "text": [
      "Let's talk about Zed A. Shaw\n",
      "He's 74 inches tall\n",
      "He's 180 pounds heavy.\n",
      "Actually that's not too heavy\n",
      "He's got Blue eyes and Brown hair.\n",
      "His teeth are usually White depending on the coffee.\n",
      "If I add 35, 74, and 180 I got 289.\n"
     ]
    }
   ],
   "source": [
    "# f for \"format\"---f infront of the statement in double quote (\"\") and variables within  special characte {}\n",
    "my_name = 'Zed A. Shaw'\n",
    "my_age = 35\n",
    "my_height = 74 # inches\n",
    "my_weight = 180 # lbs\n",
    "my_eyes = 'Blue'\n",
    "my_teeth = 'White'\n",
    "my_hair = 'Brown'\n",
    "\n",
    "print(f\"Let's talk about {my_name}\")\n",
    "print(f\"He's {my_height} inches tall\")\n",
    "print(f\"He's {my_weight} pounds heavy.\")\n",
    "print(\"Actually that's not too heavy\")\n",
    "print(f\"He's got {my_eyes} eyes and {my_hair} hair.\")\n",
    "print(f\"His teeth are usually {my_teeth} depending on the coffee.\")\n",
    "\n",
    "# this line is tricky, try to get it exactly right\n",
    "total = my_age + my_height + my_weight\n",
    "print(f\"If I add {my_age}, {my_height}, and {my_weight} I got {total}.\")\n"
   ]
  },
  {
   "cell_type": "code",
   "execution_count": 64,
   "metadata": {},
   "outputs": [
    {
     "name": "stdout",
     "output_type": "stream",
     "text": [
      "['False', 'None', 'True', 'and', 'as', 'assert', 'async', 'await', 'break', 'class', 'continue', 'def', 'del', 'elif', 'else', 'except', 'finally', 'for', 'from', 'global', 'if', 'import', 'in', 'is', 'lambda', 'nonlocal', 'not', 'or', 'pass', 'raise', 'return', 'try', 'while', 'with', 'yield']\n"
     ]
    }
   ],
   "source": [
    "import keyword\n",
    "print(keyword.kwlist)"
   ]
  },
  {
   "cell_type": "markdown",
   "metadata": {},
   "source": [
    "## Functions"
   ]
  },
  {
   "cell_type": "code",
   "execution_count": 65,
   "metadata": {},
   "outputs": [],
   "source": [
    "def rectangle_area(base, height):\n",
    "    calculate = base * height\n",
    "    print(\"The area is \", calculate)"
   ]
  },
  {
   "cell_type": "code",
   "execution_count": 66,
   "metadata": {},
   "outputs": [
    {
     "name": "stdout",
     "output_type": "stream",
     "text": [
      "The area is  30\n"
     ]
    }
   ],
   "source": [
    "rectangle_area(5, 6 )"
   ]
  },
  {
   "cell_type": "markdown",
   "metadata": {},
   "source": [
    "## for and while loops, and if condition"
   ]
  },
  {
   "cell_type": "code",
   "execution_count": 67,
   "metadata": {},
   "outputs": [
    {
     "name": "stdout",
     "output_type": "stream",
     "text": [
      "Here are the first three fruits from the list:\n",
      "Mango\n",
      "Orange\n",
      "Blueberry\n"
     ]
    }
   ],
   "source": [
    "# looping with slicing of a list\n",
    "fruits = ['mango', 'orange', 'blueberry', 'strawberry', 'banana']\n",
    "print(\"Here are the first three fruits from the list:\")\n",
    "for fruit in fruits[:3]:\n",
    "    print(fruit.title())"
   ]
  },
  {
   "cell_type": "code",
   "execution_count": 68,
   "metadata": {},
   "outputs": [
    {
     "name": "stdout",
     "output_type": "stream",
     "text": [
      "250\n",
      "55\n",
      "300\n",
      "347\n",
      "96\n"
     ]
    }
   ],
   "source": [
    "#Looping thru all values of tuple\n",
    "values = (250, 55, 300, 347, 96)\n",
    "for value in values:\n",
    "    print(value)"
   ]
  },
  {
   "cell_type": "code",
   "execution_count": 69,
   "metadata": {},
   "outputs": [
    {
     "name": "stdout",
     "output_type": "stream",
     "text": [
      "Audi\n",
      "BMW\n",
      "Honda\n",
      "Subaru\n",
      "Toyota\n"
     ]
    }
   ],
   "source": [
    "# Using if statement in special conditions,,, for instance in this case 'bmw' needs to be all uppercase\n",
    "cars = ['audi', 'bmw', 'honda', 'subaru', 'toyota']\n",
    "for car in cars:\n",
    "    if car =='bmw':\n",
    "        print(car.upper())\n",
    "    else:\n",
    "        print(car.title())"
   ]
  },
  {
   "cell_type": "code",
   "execution_count": 70,
   "metadata": {},
   "outputs": [
    {
     "name": "stdout",
     "output_type": "stream",
     "text": [
      "It is a beautiful day.\n",
      "It is a beautiful day.\n",
      "It is a beautiful day.\n",
      "\n",
      " ---------------------------------------------\n",
      "It is a sunny and beautiful day\n",
      "It is a sunny and beautiful day\n",
      "It is a sunny and beautiful day\n",
      "It is rainy day.\n",
      "\n",
      " ---------------------------------------------\n"
     ]
    }
   ],
   "source": [
    "# 'while Loop' practice\n",
    "count = 0\n",
    "while (count<3):\n",
    "    count = count+1\n",
    "    print(\"It is a beautiful day.\")\n",
    "print (\"\\n ---------------------------------------------\")\n",
    "\n",
    "# while with else\n",
    "count = 0\n",
    "while (count<3):\n",
    "    count = count+1\n",
    "    print(\"It is a sunny and beautiful day\")\n",
    "else:\n",
    "    print(\"It is rainy day.\")\n",
    "print (\"\\n ---------------------------------------------\")"
   ]
  },
  {
   "cell_type": "code",
   "execution_count": 71,
   "metadata": {},
   "outputs": [
    {
     "name": "stdout",
     "output_type": "stream",
     "text": [
      "Compilation_1\n",
      "0\n",
      "1\n",
      "1\n",
      "2\n",
      "3\n",
      "5\n",
      "8\n",
      "Compilation_2\n",
      "0,1,1,2,3,5,8,13,21,34,55,89,144,233,377,610,987,Compilation_3\n",
      "Please enter an integer: 0\n",
      "Zero\n"
     ]
    }
   ],
   "source": [
    "\"\"\"# 1 Fobonacci Series: sum of two elements defines the next\n",
    "\"\"\"\n",
    "print('Compilation_1')\n",
    "a, b =0, 1\n",
    "while a <10:\n",
    "    print(a)\n",
    "    a, b = b, a+b\n",
    "    \n",
    "\"\"\"# 2 Fobonacci Series: sum of two elements defines the next\n",
    "    The keyword argument end can be used to avoid the newline after the output,\n",
    "    or end the output with a different string:\n",
    "\"\"\"\n",
    "\n",
    "print('Compilation_2')   \n",
    "a, b = 0, 1\n",
    "while a < 1000:\n",
    "    print(a, end=',')\n",
    "    a, b = b, a+b\n",
    "\n",
    "\"\"\"# CONTROL FLOW\n",
    "\n",
    "# 3 If Statement\n",
    "\"\"\"\n",
    "\n",
    "print('Compilation_3')  \n",
    "x = int(input(\"Please enter an integer: \"))\n",
    "\n",
    "if x < 0:\n",
    "    x = 0\n",
    "    print('Negative changed to zero')\n",
    "elif x == 0:\n",
    "    print('Zero')\n",
    "elif x == 1:\n",
    "    print('Single')\n",
    "else:\n",
    "    print('More')\n",
    "    "
   ]
  },
  {
   "cell_type": "code",
   "execution_count": 72,
   "metadata": {},
   "outputs": [
    {
     "name": "stdout",
     "output_type": "stream",
     "text": [
      "Here are the days:  Mon Tue Wed Thu Fri Sat Sun\n",
      "Here are the months:  Jan\n",
      "Feb\n",
      "Mar\n",
      "Apr\n",
      "May\n",
      "Jun\n",
      "Jul\n",
      "Aug\n",
      "\n",
      "There's something going on here.\n",
      "With the three double-quotes.\n",
      "We'll be able to type as much as we like.\n",
      "Even 4 lines if we want, or 5, or 6.\n",
      "\n"
     ]
    }
   ],
   "source": [
    "# Here's some new strange stuff, remember type it exactly.\n",
    "\n",
    "days = \"Mon Tue Wed Thu Fri Sat Sun\"\n",
    "months = \"Jan\\nFeb\\nMar\\nApr\\nMay\\nJun\\nJul\\nAug\"\n",
    "\n",
    "print(\"Here are the days: \", days)\n",
    "print(\"Here are the months: \", months)\n",
    "\n",
    "print(\"\"\"\n",
    "There's something going on here.\n",
    "With the three double-quotes.\n",
    "We'll be able to type as much as we like.\n",
    "Even 4 lines if we want, or 5, or 6.\n",
    "\"\"\")"
   ]
  },
  {
   "cell_type": "code",
   "execution_count": 73,
   "metadata": {},
   "outputs": [
    {
     "name": "stdout",
     "output_type": "stream",
     "text": [
      "Marie, you can post a response if you wish.\n"
     ]
    }
   ],
   "source": [
    "# Checking whether a value is not in list\n",
    "\n",
    "banned_users = ['andrew', 'carolina', 'david']\n",
    "user = 'marie'\n",
    "\n",
    "if user not in banned_users:\n",
    "    print(user.title() + \", you can post a response if you wish.\")"
   ]
  },
  {
   "cell_type": "code",
   "execution_count": 74,
   "metadata": {},
   "outputs": [
    {
     "name": "stdout",
     "output_type": "stream",
     "text": [
      "You are old enough to vote!\n"
     ]
    }
   ],
   "source": [
    "age = 19\n",
    "if age >= 18:\n",
    "    print(\"You are old enough to vote!\")"
   ]
  },
  {
   "cell_type": "code",
   "execution_count": 75,
   "metadata": {},
   "outputs": [
    {
     "name": "stdout",
     "output_type": "stream",
     "text": [
      "You are old enough to vote!\n",
      "Have you registered to vote yet?\n"
     ]
    }
   ],
   "source": [
    "age = 19\n",
    "if age >= 18:\n",
    "    print(\"You are old enough to vote!\")\n",
    "    print(\"Have you registered to vote yet?\")"
   ]
  },
  {
   "cell_type": "code",
   "execution_count": 76,
   "metadata": {},
   "outputs": [
    {
     "name": "stdout",
     "output_type": "stream",
     "text": [
      "Sorry, you are too young to vote.\n",
      "Please register to vote as soon as you turn 18!\n"
     ]
    }
   ],
   "source": [
    "age = 17\n",
    "if age >= 18:\n",
    "    print(\"You are old enough to vote!\")\n",
    "    print(\"Have you registered to vote yet?\")\n",
    "else:\n",
    "    print(\"Sorry, you are too young to vote.\")\n",
    "    print(\"Please register to vote as soon as you turn 18!\")"
   ]
  },
  {
   "cell_type": "code",
   "execution_count": 77,
   "metadata": {},
   "outputs": [
    {
     "name": "stdout",
     "output_type": "stream",
     "text": [
      "Your admission cost is $5.\n"
     ]
    }
   ],
   "source": [
    "age = 12\n",
    "\n",
    "if age < 4:\n",
    "    print(\"Your admission cost is $0.\")\n",
    "elif age < 18:\n",
    "    print(\"Your admission cost is $5.\")\n",
    "else:\n",
    "     print(\"Your admission cost is $10.\")"
   ]
  },
  {
   "cell_type": "code",
   "execution_count": 78,
   "metadata": {},
   "outputs": [
    {
     "name": "stdout",
     "output_type": "stream",
     "text": [
      "Are you sure you want a plain pizza?\n"
     ]
    }
   ],
   "source": [
    "requested_toppings = []\n",
    "\n",
    "if requested_toppings:\n",
    "    for requested_topping in requested_toppings:\n",
    "        print(\"Adding \" + requested_topping + \".\")\n",
    "    print(\"\\nFinished making your pizza!\")\n",
    "else:\n",
    "    print(\"Are you sure you want a plain pizza?\")"
   ]
  },
  {
   "cell_type": "code",
   "execution_count": 79,
   "metadata": {},
   "outputs": [
    {
     "name": "stdout",
     "output_type": "stream",
     "text": [
      "Adding mushrooms.\n",
      "Adding french fries.\n",
      "Adding extra cheese.\n",
      "\n",
      "Finished making your pizza!\n"
     ]
    }
   ],
   "source": [
    "requested_toppings = ['mushrooms', 'french fries', 'extra cheese']\n",
    "\n",
    "if requested_toppings:\n",
    "    for requested_topping in requested_toppings:\n",
    "        print(\"Adding \" + requested_topping + \".\")\n",
    "    print(\"\\nFinished making your pizza!\")\n",
    "else:\n",
    "    print(\"Are you sure you want a plain pizza?\")"
   ]
  },
  {
   "cell_type": "code",
   "execution_count": 80,
   "metadata": {},
   "outputs": [
    {
     "name": "stdout",
     "output_type": "stream",
     "text": [
      "Adding mushrooms.\n",
      "Sorry, we don't have french fries.\n",
      "Adding extra cheese.\n",
      "\n",
      "Finished making your pizza!\n"
     ]
    }
   ],
   "source": [
    "available_toppings = ['mushrooms', 'olives', 'green peppers','pepperoni', 'pineapple', 'extra cheese']\n",
    "requested_toppings = ['mushrooms', 'french fries', 'extra cheese']\n",
    "for requested_topping in requested_toppings:\n",
    "    if requested_topping in available_toppings:\n",
    "        print(\"Adding \" + requested_topping + \".\")\n",
    "    else:\n",
    "        print(\"Sorry, we don't have \" + requested_topping + \".\")\n",
    "print(\"\\nFinished making your pizza!\")"
   ]
  },
  {
   "cell_type": "code",
   "execution_count": 81,
   "metadata": {},
   "outputs": [
    {
     "name": "stdout",
     "output_type": "stream",
     "text": [
      "green\n",
      "5\n",
      "...................................................\n",
      "You just earned 5 points!\n",
      "...................................................\n",
      "{'color': 'green', 'points': 5}\n",
      "{'color': 'green', 'points': 5, 'x_position': 0, 'y_position': 25}\n",
      "...................................................\n",
      "{'color': 'green', 'points': 5}\n",
      "...................................................\n",
      "The alien is green.\n",
      "The alien is now yellow.\n",
      "...................................................\n",
      "Original x-position: 0\n",
      "New x-position: 2\n",
      "...................................................\n",
      "{'color': 'green', 'points': 5}\n",
      "{'color': 'green'}\n"
     ]
    }
   ],
   "source": [
    "# Simple dictionary\n",
    "alien_0 = {'color': 'green', 'points': 5}\n",
    "print(alien_0['color'])\n",
    "print(alien_0['points'])\n",
    "print('...................................................')\n",
    "\n",
    "# Accessing values in a Dictionary\n",
    "new_points = alien_0['points']\n",
    "print(\"You just earned \" + str(new_points) + \" points!\")\n",
    "print('...................................................')\n",
    "\n",
    "# Adding New Key-Value Pairs\n",
    "alien_0 = {'color': 'green', 'points': 5}\n",
    "print(alien_0)\n",
    "alien_0['x_position'] = 0\n",
    "alien_0['y_position'] = 25\n",
    "print(alien_0)\n",
    "print('...................................................')\n",
    "\n",
    "# Starting with an empty dictionary\n",
    "alien_0 = {}\n",
    "alien_0['color'] = 'green'\n",
    "alien_0['points'] = 5\n",
    "print(alien_0)\n",
    "print('...................................................')\n",
    "\n",
    "# Modifying values in a dictionary\n",
    "alien_0 = {'color': 'green'}\n",
    "print(\"The alien is \" + alien_0['color'] + \".\")\n",
    "alien_0['color'] = 'yellow'\n",
    "print(\"The alien is now \" + alien_0['color'] + \".\")\n",
    "print('...................................................')\n",
    "\n",
    "alien_0 = {'x_position': 0, 'y_position': 25, 'speed': 'medium'}\n",
    "print(\"Original x-position: \" + str(alien_0['x_position']))\n",
    "# Move the alien to the right.\n",
    "# Determine how far to move the alien based on its current speed.\n",
    "if alien_0['speed'] == 'slow':\n",
    "    x_increment = 1\n",
    "elif alien_0['speed'] == 'medium':\n",
    "    x_increment = 2\n",
    "else:\n",
    "    # This must be a fast alien.\n",
    "    x_increment = 3\n",
    "# The new position is the old position plus the increment.\n",
    "alien_0['x_position'] = alien_0['x_position'] + x_increment\n",
    "print(\"New x-position: \" + str(alien_0['x_position']))\n",
    "print('...................................................')\n",
    "\n",
    "alien_0 = {'color': 'green', 'points': 5}\n",
    "print(alien_0)\n",
    "\n",
    "del alien_0['points']\n",
    "print(alien_0)"
   ]
  },
  {
   "cell_type": "code",
   "execution_count": 82,
   "metadata": {},
   "outputs": [
    {
     "name": "stdout",
     "output_type": "stream",
     "text": [
      "List Iteration -- Team sport\n",
      "NBA\n",
      "WNBA\n",
      "MLS\n",
      "WNSL\n",
      "NFL\n",
      "MLB\n",
      "NHL\n",
      "NBA\n",
      "WNBA\n",
      "MLS\n",
      "WNSL\n",
      "NFL\n",
      "MLB\n",
      "NHL\n",
      "\n",
      " Tuple Iteration -- Team sport\n",
      "NBA\n",
      "WNBA\n",
      "MLS\n",
      "WNSL\n",
      "NFL\n",
      "MLB\n",
      "NHL\n",
      "\n",
      " String Iteration -- Team sport\n",
      "s\n",
      "p\n",
      "o\n",
      "r\n",
      "t\n",
      "\n",
      " Dictionary Iteration -- Team sport\n",
      "NBA  National Basketball Association\n",
      "NFL  National Football League\n",
      "NHL  National Hockey League\n",
      "MLB  Major League Baseball\n",
      "\n",
      " Dictionary Iteration -- Team sport\n",
      "NBA  100\n",
      "NFL  99\n",
      "NHL  98\n",
      "MLB  97\n",
      "\n",
      " ---------------------------------------------\n"
     ]
    }
   ],
   "source": [
    "# For loop Practice\n",
    "# Iterating over a list \n",
    "print(\"List Iteration -- Team sport\") \n",
    "sport = [\"NBA\",\"WNBA\", \"MLS\", \"WNSL\", \"NFL\", \"MLB\", \"NHL\"] \n",
    "for i in sport: \n",
    "    print(i) \n",
    "# Iterating by index \n",
    "  \n",
    "sport = [\"NBA\",\"WNBA\", \"MLS\", \"WNSL\", \"NFL\", \"MLB\", \"NHL\"] \n",
    "for index in range(len(sport)): \n",
    "    print (sport[index])     \n",
    "       \n",
    "# Iterating over a tuple (immutable) \n",
    "print(\"\\n Tuple Iteration -- Team sport\") \n",
    "t = (\"NBA\",\"WNBA\", \"MLS\", \"WNSL\", \"NFL\", \"MLB\", \"NHL\") \n",
    "for i in t: \n",
    "    print(i) \n",
    "       \n",
    "# Iterating over a String \n",
    "print(\"\\n String Iteration -- Team sport\")     \n",
    "s = \"sport\"\n",
    "for i in s : \n",
    "    print(i) \n",
    "       \n",
    "# Iterating over dictionary with string value\n",
    "print(\"\\n Dictionary Iteration -- Team sport\")    \n",
    "d = dict()  \n",
    "d['NBA'] = \"National Basketball Association\"\n",
    "d['NFL'] = \"National Football League\"\n",
    "d['NHL'] = \"National Hockey League\"\n",
    "d['MLB'] = \"Major League Baseball\"\n",
    "for i in d : \n",
    "    print(\"%s  %s\" %(i, d[i]))\n",
    "\n",
    "# Iterating over dictionary with numeric value --- the difference is print statement\n",
    "print(\"\\n Dictionary Iteration -- Team sport\")    \n",
    "d = dict()  \n",
    "d['NBA'] = 100\n",
    "d['NFL'] = 99\n",
    "d['NHL'] = 98\n",
    "d['MLB'] = 97\n",
    "for i in d : \n",
    "    print(\"%s  %d\" %(i, d[i]))\n",
    "\n",
    "print (\"\\n ---------------------------------------------\")"
   ]
  },
  {
   "cell_type": "code",
   "execution_count": null,
   "metadata": {},
   "outputs": [],
   "source": []
  },
  {
   "cell_type": "code",
   "execution_count": null,
   "metadata": {},
   "outputs": [],
   "source": []
  },
  {
   "cell_type": "code",
   "execution_count": null,
   "metadata": {},
   "outputs": [],
   "source": []
  }
 ],
 "metadata": {
  "hide_input": false,
  "kernelspec": {
   "display_name": "Python 3",
   "language": "python",
   "name": "python3"
  },
  "language_info": {
   "codemirror_mode": {
    "name": "ipython",
    "version": 3
   },
   "file_extension": ".py",
   "mimetype": "text/x-python",
   "name": "python",
   "nbconvert_exporter": "python",
   "pygments_lexer": "ipython3",
   "version": "3.8.8"
  },
  "latex_envs": {
   "LaTeX_envs_menu_present": true,
   "autoclose": false,
   "autocomplete": true,
   "bibliofile": "biblio.bib",
   "cite_by": "apalike",
   "current_citInitial": 1,
   "eqLabelWithNumbers": true,
   "eqNumInitial": 1,
   "hotkeys": {
    "equation": "Ctrl-E",
    "itemize": "Ctrl-I"
   },
   "labels_anchors": false,
   "latex_user_defs": false,
   "report_style_numbering": false,
   "user_envs_cfg": false
  },
  "varInspector": {
   "cols": {
    "lenName": 16,
    "lenType": 16,
    "lenVar": 40
   },
   "kernels_config": {
    "python": {
     "delete_cmd_postfix": "",
     "delete_cmd_prefix": "del ",
     "library": "var_list.py",
     "varRefreshCmd": "print(var_dic_list())"
    },
    "r": {
     "delete_cmd_postfix": ") ",
     "delete_cmd_prefix": "rm(",
     "library": "var_list.r",
     "varRefreshCmd": "cat(var_dic_list()) "
    }
   },
   "types_to_exclude": [
    "module",
    "function",
    "builtin_function_or_method",
    "instance",
    "_Feature"
   ],
   "window_display": false
  }
 },
 "nbformat": 4,
 "nbformat_minor": 4
}
