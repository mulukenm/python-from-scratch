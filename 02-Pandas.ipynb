{
 "cells": [
  {
   "cell_type": "markdown",
   "metadata": {},
   "source": [
    "# pandas\n",
    "\n",
    "*pandas* is a Python library for data analysis which provides fast, powerful, flexible and easy to use open source data analysis and manipulation tools. It also provides expressive data structures designed to make working with structured (tabular, multidimensional, potentially heterogeneous) and time series data both easy and intuitive. In pandas, the data table is called DataFrame. Using pandas, you can explore, clean and process your data.  \n",
    "\n",
    "It offers a number of data exploration, cleaning and transformation operations that are critical in working with data in Python. \n",
    "\n",
    "*pandas* build upon *numpy* and *scipy* providing easy-to-use data structures and data manipulation functions with integrated indexing.\n",
    "\n",
    "The main data structures *pandas* provides are *Series* and *DataFrames*. After a brief introduction to these two data structures and data ingestion, the key features of *pandas* this notebook covers are:\n",
    "* Generating descriptive statistics on data\n",
    "* Data cleaning using built in pandas functions\n",
    "* Frequent data operations for subsetting, filtering, insertion, deletion and aggregation of data\n",
    "* Merging multiple datasets using dataframes\n",
    "* Working with timestamps and time-series data\n",
    "\n",
    "This notebook is a summary of an introductions to pandas and some of its methods. \n",
    "\n",
    "#### Imprt Libraries\n",
    "The first step in using different libraries in Python is importing libraries so that it will be accessible for use. You can import the library by its name as it is or using aliases to make its usage easier. "
   ]
  },
  {
   "cell_type": "code",
   "execution_count": 1,
   "metadata": {},
   "outputs": [
    {
     "data": {
      "text/plain": [
       "'2022-01-18T19:58:32.431139'"
      ]
     },
     "execution_count": 1,
     "metadata": {},
     "output_type": "execute_result"
    }
   ],
   "source": [
    "import datetime\n",
    "current_time = datetime.datetime.now()\n",
    "current_time.isoformat()"
   ]
  },
  {
   "cell_type": "code",
   "execution_count": 2,
   "metadata": {},
   "outputs": [
    {
     "data": {
      "text/plain": [
       "'2022-01-18T19:58:32.539847'"
      ]
     },
     "execution_count": 2,
     "metadata": {},
     "output_type": "execute_result"
    }
   ],
   "source": [
    "import datetime as dt\n",
    "current_time = dt.datetime.now()\n",
    "current_time.isoformat()"
   ]
  },
  {
   "cell_type": "code",
   "execution_count": 3,
   "metadata": {},
   "outputs": [
    {
     "data": {
      "text/plain": [
       "'1.3.4'"
      ]
     },
     "execution_count": 3,
     "metadata": {},
     "output_type": "execute_result"
    }
   ],
   "source": [
    "# Import the library with alias and print its version\n",
    "import numpy as np\n",
    "import pandas as pd\n",
    "pd.__version__"
   ]
  },
  {
   "cell_type": "markdown",
   "metadata": {},
   "source": [
    "There are two major pandas data structures: Series and DataFrames.\n",
    "* Series: a one-dimensional labeled array-like object that capable of holding any data type and it maps an index to values. \n",
    "* DataFrame: a 2-dimensional labeled data structure ( a rectangular table of data) with potentially different data types. It has both  row/s and column/s.\n",
    "\n",
    "You can import different data files such as Excel, CSV, SAs, SPSS, ...etc to pandas DataFrame. "
   ]
  },
  {
   "cell_type": "code",
   "execution_count": 4,
   "metadata": {},
   "outputs": [
    {
     "data": {
      "text/plain": [
       "0    2.261948\n",
       "1    0.847143\n",
       "2   -1.308370\n",
       "3    0.731112\n",
       "4    1.016128\n",
       "Name: Series1, dtype: float64"
      ]
     },
     "execution_count": 4,
     "metadata": {},
     "output_type": "execute_result"
    }
   ],
   "source": [
    "# Creating Series\n",
    "s = pd.Series(np.random.randn(5), name=\"Series1\")\n",
    "s"
   ]
  },
  {
   "cell_type": "code",
   "execution_count": 5,
   "metadata": {},
   "outputs": [
    {
     "data": {
      "text/plain": [
       "'Series1'"
      ]
     },
     "execution_count": 5,
     "metadata": {},
     "output_type": "execute_result"
    }
   ],
   "source": [
    "# checking name of the series\n",
    "s.name"
   ]
  },
  {
   "cell_type": "code",
   "execution_count": 6,
   "metadata": {},
   "outputs": [
    {
     "data": {
      "text/html": [
       "<div>\n",
       "<style scoped>\n",
       "    .dataframe tbody tr th:only-of-type {\n",
       "        vertical-align: middle;\n",
       "    }\n",
       "\n",
       "    .dataframe tbody tr th {\n",
       "        vertical-align: top;\n",
       "    }\n",
       "\n",
       "    .dataframe thead th {\n",
       "        text-align: right;\n",
       "    }\n",
       "</style>\n",
       "<table border=\"1\" class=\"dataframe\">\n",
       "  <thead>\n",
       "    <tr style=\"text-align: right;\">\n",
       "      <th></th>\n",
       "      <th>A</th>\n",
       "      <th>B</th>\n",
       "    </tr>\n",
       "  </thead>\n",
       "  <tbody>\n",
       "    <tr>\n",
       "      <th>0</th>\n",
       "      <td>1</td>\n",
       "      <td>10</td>\n",
       "    </tr>\n",
       "    <tr>\n",
       "      <th>1</th>\n",
       "      <td>2</td>\n",
       "      <td>11</td>\n",
       "    </tr>\n",
       "    <tr>\n",
       "      <th>2</th>\n",
       "      <td>3</td>\n",
       "      <td>12</td>\n",
       "    </tr>\n",
       "    <tr>\n",
       "      <th>3</th>\n",
       "      <td>4</td>\n",
       "      <td>13</td>\n",
       "    </tr>\n",
       "  </tbody>\n",
       "</table>\n",
       "</div>"
      ],
      "text/plain": [
       "   A   B\n",
       "0  1  10\n",
       "1  2  11\n",
       "2  3  12\n",
       "3  4  13"
      ]
     },
     "execution_count": 6,
     "metadata": {},
     "output_type": "execute_result"
    }
   ],
   "source": [
    "# Creating DataFrame\n",
    "df1 = pd.DataFrame.from_dict(dict([(\"A\", [1, 2, 3, 4]), (\"B\", [10, 11, 12, 13])]))\n",
    "df1.head()"
   ]
  },
  {
   "cell_type": "code",
   "execution_count": 7,
   "metadata": {},
   "outputs": [
    {
     "data": {
      "text/html": [
       "<div>\n",
       "<style scoped>\n",
       "    .dataframe tbody tr th:only-of-type {\n",
       "        vertical-align: middle;\n",
       "    }\n",
       "\n",
       "    .dataframe tbody tr th {\n",
       "        vertical-align: top;\n",
       "    }\n",
       "\n",
       "    .dataframe thead th {\n",
       "        text-align: right;\n",
       "    }\n",
       "</style>\n",
       "<table border=\"1\" class=\"dataframe\">\n",
       "  <thead>\n",
       "    <tr style=\"text-align: right;\">\n",
       "      <th></th>\n",
       "      <th>A</th>\n",
       "      <th>B</th>\n",
       "    </tr>\n",
       "  </thead>\n",
       "  <tbody>\n",
       "    <tr>\n",
       "      <th>0</th>\n",
       "      <td>1</td>\n",
       "      <td>10</td>\n",
       "    </tr>\n",
       "    <tr>\n",
       "      <th>2</th>\n",
       "      <td>3</td>\n",
       "      <td>12</td>\n",
       "    </tr>\n",
       "  </tbody>\n",
       "</table>\n",
       "</div>"
      ],
      "text/plain": [
       "   A   B\n",
       "0  1  10\n",
       "2  3  12"
      ]
     },
     "execution_count": 7,
     "metadata": {},
     "output_type": "execute_result"
    }
   ],
   "source": [
    "df1 = df1.drop(index=[1,3])\n",
    "df1.head()"
   ]
  },
  {
   "cell_type": "code",
   "execution_count": 8,
   "metadata": {},
   "outputs": [
    {
     "data": {
      "text/html": [
       "<div>\n",
       "<style scoped>\n",
       "    .dataframe tbody tr th:only-of-type {\n",
       "        vertical-align: middle;\n",
       "    }\n",
       "\n",
       "    .dataframe tbody tr th {\n",
       "        vertical-align: top;\n",
       "    }\n",
       "\n",
       "    .dataframe thead th {\n",
       "        text-align: right;\n",
       "    }\n",
       "</style>\n",
       "<table border=\"1\" class=\"dataframe\">\n",
       "  <thead>\n",
       "    <tr style=\"text-align: right;\">\n",
       "      <th></th>\n",
       "      <th>index</th>\n",
       "      <th>A</th>\n",
       "      <th>B</th>\n",
       "    </tr>\n",
       "  </thead>\n",
       "  <tbody>\n",
       "    <tr>\n",
       "      <th>0</th>\n",
       "      <td>0</td>\n",
       "      <td>1</td>\n",
       "      <td>10</td>\n",
       "    </tr>\n",
       "    <tr>\n",
       "      <th>1</th>\n",
       "      <td>2</td>\n",
       "      <td>3</td>\n",
       "      <td>12</td>\n",
       "    </tr>\n",
       "  </tbody>\n",
       "</table>\n",
       "</div>"
      ],
      "text/plain": [
       "   index  A   B\n",
       "0      0  1  10\n",
       "1      2  3  12"
      ]
     },
     "execution_count": 8,
     "metadata": {},
     "output_type": "execute_result"
    }
   ],
   "source": [
    "df1 = df1.reset_index()\n",
    "\n",
    "df1.head()"
   ]
  },
  {
   "cell_type": "code",
   "execution_count": 9,
   "metadata": {},
   "outputs": [
    {
     "data": {
      "text/html": [
       "<div>\n",
       "<style scoped>\n",
       "    .dataframe tbody tr th:only-of-type {\n",
       "        vertical-align: middle;\n",
       "    }\n",
       "\n",
       "    .dataframe tbody tr th {\n",
       "        vertical-align: top;\n",
       "    }\n",
       "\n",
       "    .dataframe thead th {\n",
       "        text-align: right;\n",
       "    }\n",
       "</style>\n",
       "<table border=\"1\" class=\"dataframe\">\n",
       "  <thead>\n",
       "    <tr style=\"text-align: right;\">\n",
       "      <th></th>\n",
       "      <th>One</th>\n",
       "      <th>Two</th>\n",
       "      <th>Three</th>\n",
       "      <th>Four</th>\n",
       "    </tr>\n",
       "  </thead>\n",
       "  <tbody>\n",
       "    <tr>\n",
       "      <th>A</th>\n",
       "      <td>1</td>\n",
       "      <td>2</td>\n",
       "      <td>3</td>\n",
       "      <td>4</td>\n",
       "    </tr>\n",
       "    <tr>\n",
       "      <th>B</th>\n",
       "      <td>10</td>\n",
       "      <td>11</td>\n",
       "      <td>12</td>\n",
       "      <td>13</td>\n",
       "    </tr>\n",
       "  </tbody>\n",
       "</table>\n",
       "</div>"
      ],
      "text/plain": [
       "   One  Two  Three  Four\n",
       "A    1    2      3     4\n",
       "B   10   11     12    13"
      ]
     },
     "execution_count": 9,
     "metadata": {},
     "output_type": "execute_result"
    }
   ],
   "source": [
    "# Creating another DataFrame\n",
    "df2 = pd.DataFrame.from_dict(\n",
    "    dict([(\"A\", [1, 2, 3, 4]), (\"B\", [10, 11, 12, 13])]),\n",
    "    orient=\"index\",\n",
    "    columns=[\"One\", \"Two\", \"Three\", \"Four\"],)\n",
    "df2.head()"
   ]
  },
  {
   "cell_type": "code",
   "execution_count": 10,
   "metadata": {},
   "outputs": [],
   "source": [
    "# Main DataFrame components\n",
    "columns = df2.columns\n",
    "index = df2.index\n",
    "data = df2.values"
   ]
  },
  {
   "cell_type": "code",
   "execution_count": 11,
   "metadata": {},
   "outputs": [
    {
     "data": {
      "text/plain": [
       "Index(['One', 'Two', 'Three', 'Four'], dtype='object')"
      ]
     },
     "execution_count": 11,
     "metadata": {},
     "output_type": "execute_result"
    }
   ],
   "source": [
    "columns"
   ]
  },
  {
   "cell_type": "code",
   "execution_count": 12,
   "metadata": {},
   "outputs": [
    {
     "data": {
      "text/plain": [
       "Index(['A', 'B'], dtype='object')"
      ]
     },
     "execution_count": 12,
     "metadata": {},
     "output_type": "execute_result"
    }
   ],
   "source": [
    "index"
   ]
  },
  {
   "cell_type": "code",
   "execution_count": 13,
   "metadata": {},
   "outputs": [
    {
     "data": {
      "text/plain": [
       "array([[ 1,  2,  3,  4],\n",
       "       [10, 11, 12, 13]], dtype=int64)"
      ]
     },
     "execution_count": 13,
     "metadata": {},
     "output_type": "execute_result"
    }
   ],
   "source": [
    "data"
   ]
  },
  {
   "cell_type": "code",
   "execution_count": 14,
   "metadata": {},
   "outputs": [
    {
     "data": {
      "text/plain": [
       "(2, 4)"
      ]
     },
     "execution_count": 14,
     "metadata": {},
     "output_type": "execute_result"
    }
   ],
   "source": [
    "# Dimension of the DataFrame\n",
    "df2.shape"
   ]
  },
  {
   "cell_type": "code",
   "execution_count": 15,
   "metadata": {},
   "outputs": [
    {
     "data": {
      "text/plain": [
       "array([[ 1,  2,  3,  4],\n",
       "       [10, 11, 12, 13]], dtype=int64)"
      ]
     },
     "execution_count": 15,
     "metadata": {},
     "output_type": "execute_result"
    }
   ],
   "source": [
    "# DataFrame values\n",
    "df2.values"
   ]
  },
  {
   "cell_type": "code",
   "execution_count": 16,
   "metadata": {},
   "outputs": [
    {
     "name": "stdout",
     "output_type": "stream",
     "text": [
      "<class 'pandas.core.frame.DataFrame'>\n",
      "Index: 2 entries, A to B\n",
      "Data columns (total 4 columns):\n",
      " #   Column  Non-Null Count  Dtype\n",
      "---  ------  --------------  -----\n",
      " 0   One     2 non-null      int64\n",
      " 1   Two     2 non-null      int64\n",
      " 2   Three   2 non-null      int64\n",
      " 3   Four    2 non-null      int64\n",
      "dtypes: int64(4)\n",
      "memory usage: 80.0+ bytes\n"
     ]
    }
   ],
   "source": [
    "df2.info()"
   ]
  },
  {
   "cell_type": "code",
   "execution_count": 17,
   "metadata": {},
   "outputs": [
    {
     "data": {
      "text/plain": [
       "Index(['State', '2000', '2001', '2002', '2003', '2004', '2005', '2006', '2007',\n",
       "       '2008', '2009', '2010', '2011', '2012', '2013', '2014', '2015', '2016',\n",
       "       '2017', '2018'],\n",
       "      dtype='object')"
      ]
     },
     "execution_count": 17,
     "metadata": {},
     "output_type": "execute_result"
    }
   ],
   "source": [
    "# Associate's Degrees in Science and Engineering Conferred per 1,000 Individuals 18–24 Years Old (Degrees) this a publicly \n",
    "#1 Number of S&E Associete degrees receipients of 18 24 years old by state and year\n",
    "df_assDe = pd.read_excel(\"se-associates-degrees-per-1000-18-24-year-olds.xlsx\", skiprows = [0, 1, 2], \n",
    "                         usecols = [0, 1, 2, 3, 4, 5, 6, 7, 8, 9, 10, 11, 12, 13, 14, 15, 16, 17, 18, 19])\n",
    "\n",
    "df_assDe.head()\n",
    "df_assDe.columns"
   ]
  },
  {
   "cell_type": "code",
   "execution_count": 18,
   "metadata": {},
   "outputs": [
    {
     "data": {
      "text/html": [
       "<div>\n",
       "<style scoped>\n",
       "    .dataframe tbody tr th:only-of-type {\n",
       "        vertical-align: middle;\n",
       "    }\n",
       "\n",
       "    .dataframe tbody tr th {\n",
       "        vertical-align: top;\n",
       "    }\n",
       "\n",
       "    .dataframe thead th {\n",
       "        text-align: right;\n",
       "    }\n",
       "</style>\n",
       "<table border=\"1\" class=\"dataframe\">\n",
       "  <thead>\n",
       "    <tr style=\"text-align: right;\">\n",
       "      <th></th>\n",
       "      <th>State</th>\n",
       "      <th>2000</th>\n",
       "      <th>2001</th>\n",
       "      <th>2002</th>\n",
       "      <th>2003</th>\n",
       "      <th>2004</th>\n",
       "      <th>2005</th>\n",
       "      <th>2006</th>\n",
       "      <th>2007</th>\n",
       "      <th>2008</th>\n",
       "      <th>2009</th>\n",
       "      <th>2010</th>\n",
       "      <th>2011</th>\n",
       "      <th>2012</th>\n",
       "      <th>2013</th>\n",
       "      <th>2014</th>\n",
       "      <th>2015</th>\n",
       "      <th>2016</th>\n",
       "      <th>2017</th>\n",
       "      <th>2018</th>\n",
       "    </tr>\n",
       "  </thead>\n",
       "  <tbody>\n",
       "    <tr>\n",
       "      <th>0</th>\n",
       "      <td>United States</td>\n",
       "      <td>27744738.0</td>\n",
       "      <td>28423532.0</td>\n",
       "      <td>28908773.0</td>\n",
       "      <td>29340084.0</td>\n",
       "      <td>29719320.0</td>\n",
       "      <td>29849590.0</td>\n",
       "      <td>30001425.0</td>\n",
       "      <td>30197665.0</td>\n",
       "      <td>30579025.0</td>\n",
       "      <td>30909846.0</td>\n",
       "      <td>31138496.0</td>\n",
       "      <td>31454470.0</td>\n",
       "      <td>31745935.0</td>\n",
       "      <td>31860323.0</td>\n",
       "      <td>31780671.0</td>\n",
       "      <td>31484453.0</td>\n",
       "      <td>31156469.0</td>\n",
       "      <td>30871364.0</td>\n",
       "      <td>30761088.0</td>\n",
       "    </tr>\n",
       "    <tr>\n",
       "      <th>1</th>\n",
       "      <td>Alabama</td>\n",
       "      <td>442244.0</td>\n",
       "      <td>447963.0</td>\n",
       "      <td>450657.0</td>\n",
       "      <td>456549.0</td>\n",
       "      <td>457934.0</td>\n",
       "      <td>458170.0</td>\n",
       "      <td>459114.0</td>\n",
       "      <td>462996.0</td>\n",
       "      <td>470431.0</td>\n",
       "      <td>476884.0</td>\n",
       "      <td>479740.0</td>\n",
       "      <td>481821.0</td>\n",
       "      <td>485460.0</td>\n",
       "      <td>486952.0</td>\n",
       "      <td>481029.0</td>\n",
       "      <td>471969.0</td>\n",
       "      <td>462636.0</td>\n",
       "      <td>455854.0</td>\n",
       "      <td>452658.0</td>\n",
       "    </tr>\n",
       "    <tr>\n",
       "      <th>2</th>\n",
       "      <td>Alaska</td>\n",
       "      <td>57670.0</td>\n",
       "      <td>61774.0</td>\n",
       "      <td>65287.0</td>\n",
       "      <td>68253.0</td>\n",
       "      <td>71882.0</td>\n",
       "      <td>73591.0</td>\n",
       "      <td>74369.0</td>\n",
       "      <td>74383.0</td>\n",
       "      <td>75206.0</td>\n",
       "      <td>73249.0</td>\n",
       "      <td>75359.0</td>\n",
       "      <td>76122.0</td>\n",
       "      <td>77749.0</td>\n",
       "      <td>79653.0</td>\n",
       "      <td>78581.0</td>\n",
       "      <td>76872.0</td>\n",
       "      <td>74513.0</td>\n",
       "      <td>71961.0</td>\n",
       "      <td>70377.0</td>\n",
       "    </tr>\n",
       "    <tr>\n",
       "      <th>3</th>\n",
       "      <td>Arizona</td>\n",
       "      <td>519627.0</td>\n",
       "      <td>536018.0</td>\n",
       "      <td>549407.0</td>\n",
       "      <td>559859.0</td>\n",
       "      <td>571196.0</td>\n",
       "      <td>580341.0</td>\n",
       "      <td>591986.0</td>\n",
       "      <td>605860.0</td>\n",
       "      <td>621451.0</td>\n",
       "      <td>629438.0</td>\n",
       "      <td>635984.0</td>\n",
       "      <td>649306.0</td>\n",
       "      <td>663209.0</td>\n",
       "      <td>670120.0</td>\n",
       "      <td>677544.0</td>\n",
       "      <td>677130.0</td>\n",
       "      <td>677720.0</td>\n",
       "      <td>675845.0</td>\n",
       "      <td>687396.0</td>\n",
       "    </tr>\n",
       "    <tr>\n",
       "      <th>4</th>\n",
       "      <td>Arkansas</td>\n",
       "      <td>263749.0</td>\n",
       "      <td>268131.0</td>\n",
       "      <td>272203.0</td>\n",
       "      <td>275122.0</td>\n",
       "      <td>275779.0</td>\n",
       "      <td>274439.0</td>\n",
       "      <td>273882.0</td>\n",
       "      <td>275325.0</td>\n",
       "      <td>278835.0</td>\n",
       "      <td>281953.0</td>\n",
       "      <td>285507.0</td>\n",
       "      <td>289572.0</td>\n",
       "      <td>290876.0</td>\n",
       "      <td>291256.0</td>\n",
       "      <td>290495.0</td>\n",
       "      <td>286985.0</td>\n",
       "      <td>283384.0</td>\n",
       "      <td>280768.0</td>\n",
       "      <td>280578.0</td>\n",
       "    </tr>\n",
       "  </tbody>\n",
       "</table>\n",
       "</div>"
      ],
      "text/plain": [
       "           State        2000        2001        2002        2003        2004  \\\n",
       "0  United States  27744738.0  28423532.0  28908773.0  29340084.0  29719320.0   \n",
       "1        Alabama    442244.0    447963.0    450657.0    456549.0    457934.0   \n",
       "2         Alaska     57670.0     61774.0     65287.0     68253.0     71882.0   \n",
       "3        Arizona    519627.0    536018.0    549407.0    559859.0    571196.0   \n",
       "4       Arkansas    263749.0    268131.0    272203.0    275122.0    275779.0   \n",
       "\n",
       "         2005        2006        2007        2008        2009        2010  \\\n",
       "0  29849590.0  30001425.0  30197665.0  30579025.0  30909846.0  31138496.0   \n",
       "1    458170.0    459114.0    462996.0    470431.0    476884.0    479740.0   \n",
       "2     73591.0     74369.0     74383.0     75206.0     73249.0     75359.0   \n",
       "3    580341.0    591986.0    605860.0    621451.0    629438.0    635984.0   \n",
       "4    274439.0    273882.0    275325.0    278835.0    281953.0    285507.0   \n",
       "\n",
       "         2011        2012        2013        2014        2015        2016  \\\n",
       "0  31454470.0  31745935.0  31860323.0  31780671.0  31484453.0  31156469.0   \n",
       "1    481821.0    485460.0    486952.0    481029.0    471969.0    462636.0   \n",
       "2     76122.0     77749.0     79653.0     78581.0     76872.0     74513.0   \n",
       "3    649306.0    663209.0    670120.0    677544.0    677130.0    677720.0   \n",
       "4    289572.0    290876.0    291256.0    290495.0    286985.0    283384.0   \n",
       "\n",
       "         2017        2018  \n",
       "0  30871364.0  30761088.0  \n",
       "1    455854.0    452658.0  \n",
       "2     71961.0     70377.0  \n",
       "3    675845.0    687396.0  \n",
       "4    280768.0    280578.0  "
      ]
     },
     "execution_count": 18,
     "metadata": {},
     "output_type": "execute_result"
    }
   ],
   "source": [
    "# 2 Number of individuals (18 24 years old) by state and year\n",
    "df_indv = pd.read_excel(\"se-associates-degrees-per-1000-18-24-year-olds.xlsx\", skiprows = [0, 1, 2], \n",
    "                         usecols = [0, 21, 22, 23, 24, 25, 26, 27, 28, 29, 30, 31, 32, 33, 34, 35, 36, 37, 38 , 39])\n",
    "df_indv.columns = ['State', '2000', '2001', '2002', '2003', '2004', '2005', '2006', '2007',\n",
    "       '2008', '2009', '2010', '2011', '2012', '2013', '2014', '2015', '2016',\n",
    "       '2017', '2018']\n",
    "df_indv.head()"
   ]
  },
  {
   "cell_type": "code",
   "execution_count": 19,
   "metadata": {},
   "outputs": [
    {
     "data": {
      "text/plain": [
       "(60, 20)"
      ]
     },
     "execution_count": 19,
     "metadata": {},
     "output_type": "execute_result"
    }
   ],
   "source": [
    "df_indv.shape"
   ]
  },
  {
   "cell_type": "code",
   "execution_count": 20,
   "metadata": {},
   "outputs": [
    {
     "data": {
      "text/html": [
       "<div>\n",
       "<style scoped>\n",
       "    .dataframe tbody tr th:only-of-type {\n",
       "        vertical-align: middle;\n",
       "    }\n",
       "\n",
       "    .dataframe tbody tr th {\n",
       "        vertical-align: top;\n",
       "    }\n",
       "\n",
       "    .dataframe thead th {\n",
       "        text-align: right;\n",
       "    }\n",
       "</style>\n",
       "<table border=\"1\" class=\"dataframe\">\n",
       "  <thead>\n",
       "    <tr style=\"text-align: right;\">\n",
       "      <th></th>\n",
       "      <th>State</th>\n",
       "      <th>2000</th>\n",
       "      <th>2001</th>\n",
       "      <th>2002</th>\n",
       "      <th>2003</th>\n",
       "      <th>2004</th>\n",
       "      <th>2005</th>\n",
       "      <th>2006</th>\n",
       "      <th>2007</th>\n",
       "      <th>2008</th>\n",
       "      <th>2009</th>\n",
       "      <th>2010</th>\n",
       "      <th>2011</th>\n",
       "      <th>2012</th>\n",
       "      <th>2013</th>\n",
       "      <th>2014</th>\n",
       "      <th>2015</th>\n",
       "      <th>2016</th>\n",
       "      <th>2017</th>\n",
       "      <th>2018</th>\n",
       "    </tr>\n",
       "  </thead>\n",
       "  <tbody>\n",
       "    <tr>\n",
       "      <th>0</th>\n",
       "      <td>United States</td>\n",
       "      <td>1.389056</td>\n",
       "      <td>1.595790</td>\n",
       "      <td>1.775413</td>\n",
       "      <td>2.144847</td>\n",
       "      <td>2.027166</td>\n",
       "      <td>1.834196</td>\n",
       "      <td>1.661588</td>\n",
       "      <td>1.572473</td>\n",
       "      <td>1.607834</td>\n",
       "      <td>1.756204</td>\n",
       "      <td>1.997881</td>\n",
       "      <td>2.416858</td>\n",
       "      <td>2.670736</td>\n",
       "      <td>2.692942</td>\n",
       "      <td>2.768223</td>\n",
       "      <td>2.877261</td>\n",
       "      <td>2.851157</td>\n",
       "      <td>3.001163</td>\n",
       "      <td>3.202520</td>\n",
       "    </tr>\n",
       "    <tr>\n",
       "      <th>1</th>\n",
       "      <td>Alabama</td>\n",
       "      <td>1.295665</td>\n",
       "      <td>1.428689</td>\n",
       "      <td>1.584354</td>\n",
       "      <td>1.938456</td>\n",
       "      <td>1.629056</td>\n",
       "      <td>1.385948</td>\n",
       "      <td>1.108657</td>\n",
       "      <td>0.771065</td>\n",
       "      <td>0.814147</td>\n",
       "      <td>0.769579</td>\n",
       "      <td>0.858799</td>\n",
       "      <td>1.019051</td>\n",
       "      <td>1.046430</td>\n",
       "      <td>0.975455</td>\n",
       "      <td>0.914706</td>\n",
       "      <td>0.904720</td>\n",
       "      <td>0.737081</td>\n",
       "      <td>0.651524</td>\n",
       "      <td>0.545666</td>\n",
       "    </tr>\n",
       "    <tr>\n",
       "      <th>2</th>\n",
       "      <td>Alaska</td>\n",
       "      <td>0.052020</td>\n",
       "      <td>0.000000</td>\n",
       "      <td>0.000000</td>\n",
       "      <td>0.908385</td>\n",
       "      <td>0.514732</td>\n",
       "      <td>0.271772</td>\n",
       "      <td>0.430287</td>\n",
       "      <td>0.215103</td>\n",
       "      <td>0.186155</td>\n",
       "      <td>0.177477</td>\n",
       "      <td>0.477713</td>\n",
       "      <td>1.247997</td>\n",
       "      <td>0.977505</td>\n",
       "      <td>1.205228</td>\n",
       "      <td>1.005332</td>\n",
       "      <td>0.741492</td>\n",
       "      <td>0.724706</td>\n",
       "      <td>0.833785</td>\n",
       "      <td>0.511531</td>\n",
       "    </tr>\n",
       "    <tr>\n",
       "      <th>3</th>\n",
       "      <td>Arizona</td>\n",
       "      <td>1.518397</td>\n",
       "      <td>1.858147</td>\n",
       "      <td>1.991238</td>\n",
       "      <td>2.372026</td>\n",
       "      <td>2.652329</td>\n",
       "      <td>2.365850</td>\n",
       "      <td>2.187552</td>\n",
       "      <td>2.469217</td>\n",
       "      <td>4.257777</td>\n",
       "      <td>8.227975</td>\n",
       "      <td>12.852525</td>\n",
       "      <td>17.843667</td>\n",
       "      <td>18.761808</td>\n",
       "      <td>13.842297</td>\n",
       "      <td>11.919521</td>\n",
       "      <td>10.029093</td>\n",
       "      <td>7.814437</td>\n",
       "      <td>6.417152</td>\n",
       "      <td>5.004393</td>\n",
       "    </tr>\n",
       "    <tr>\n",
       "      <th>4</th>\n",
       "      <td>Arkansas</td>\n",
       "      <td>0.686259</td>\n",
       "      <td>0.607912</td>\n",
       "      <td>0.753114</td>\n",
       "      <td>1.046808</td>\n",
       "      <td>0.790488</td>\n",
       "      <td>0.783416</td>\n",
       "      <td>0.828824</td>\n",
       "      <td>0.773631</td>\n",
       "      <td>0.613266</td>\n",
       "      <td>0.741258</td>\n",
       "      <td>0.816092</td>\n",
       "      <td>0.618154</td>\n",
       "      <td>0.587879</td>\n",
       "      <td>0.638613</td>\n",
       "      <td>0.691922</td>\n",
       "      <td>0.735230</td>\n",
       "      <td>0.635181</td>\n",
       "      <td>0.683839</td>\n",
       "      <td>0.976556</td>\n",
       "    </tr>\n",
       "  </tbody>\n",
       "</table>\n",
       "</div>"
      ],
      "text/plain": [
       "           State      2000      2001      2002      2003      2004      2005  \\\n",
       "0  United States  1.389056  1.595790  1.775413  2.144847  2.027166  1.834196   \n",
       "1        Alabama  1.295665  1.428689  1.584354  1.938456  1.629056  1.385948   \n",
       "2         Alaska  0.052020  0.000000  0.000000  0.908385  0.514732  0.271772   \n",
       "3        Arizona  1.518397  1.858147  1.991238  2.372026  2.652329  2.365850   \n",
       "4       Arkansas  0.686259  0.607912  0.753114  1.046808  0.790488  0.783416   \n",
       "\n",
       "       2006      2007      2008      2009       2010       2011       2012  \\\n",
       "0  1.661588  1.572473  1.607834  1.756204   1.997881   2.416858   2.670736   \n",
       "1  1.108657  0.771065  0.814147  0.769579   0.858799   1.019051   1.046430   \n",
       "2  0.430287  0.215103  0.186155  0.177477   0.477713   1.247997   0.977505   \n",
       "3  2.187552  2.469217  4.257777  8.227975  12.852525  17.843667  18.761808   \n",
       "4  0.828824  0.773631  0.613266  0.741258   0.816092   0.618154   0.587879   \n",
       "\n",
       "        2013       2014       2015      2016      2017      2018  \n",
       "0   2.692942   2.768223   2.877261  2.851157  3.001163  3.202520  \n",
       "1   0.975455   0.914706   0.904720  0.737081  0.651524  0.545666  \n",
       "2   1.205228   1.005332   0.741492  0.724706  0.833785  0.511531  \n",
       "3  13.842297  11.919521  10.029093  7.814437  6.417152  5.004393  \n",
       "4   0.638613   0.691922   0.735230  0.635181  0.683839  0.976556  "
      ]
     },
     "execution_count": 20,
     "metadata": {},
     "output_type": "execute_result"
    }
   ],
   "source": [
    "# 3 Degrees per 1000 individuals of 18 24 years old\n",
    "df_Dper1000I = pd.read_excel(\"se-associates-degrees-per-1000-18-24-year-olds.xlsx\", skiprows = [0, 1, 2], \n",
    "                         usecols = [0, 41, 42, 43, 44, 45, 46, 47, 48, 49, 50, 51, 52, 53, 54, 55, 56, 57, 58, 59])\n",
    "df_Dper1000I.columns = ['State', '2000', '2001', '2002', '2003', '2004', '2005', '2006', '2007',\n",
    "       '2008', '2009', '2010', '2011', '2012', '2013', '2014', '2015', '2016',\n",
    "       '2017', '2018']\n",
    "df_Dper1000I.head()"
   ]
  },
  {
   "cell_type": "code",
   "execution_count": 21,
   "metadata": {},
   "outputs": [
    {
     "data": {
      "text/html": [
       "<div>\n",
       "<style scoped>\n",
       "    .dataframe tbody tr th:only-of-type {\n",
       "        vertical-align: middle;\n",
       "    }\n",
       "\n",
       "    .dataframe tbody tr th {\n",
       "        vertical-align: top;\n",
       "    }\n",
       "\n",
       "    .dataframe thead th {\n",
       "        text-align: right;\n",
       "    }\n",
       "</style>\n",
       "<table border=\"1\" class=\"dataframe\">\n",
       "  <thead>\n",
       "    <tr style=\"text-align: right;\">\n",
       "      <th></th>\n",
       "      <th>State</th>\n",
       "      <th>2000</th>\n",
       "      <th>2001</th>\n",
       "      <th>2002</th>\n",
       "      <th>2003</th>\n",
       "      <th>2004</th>\n",
       "      <th>2005</th>\n",
       "      <th>2006</th>\n",
       "      <th>2007</th>\n",
       "      <th>2008</th>\n",
       "      <th>...</th>\n",
       "      <th>2010</th>\n",
       "      <th>2011</th>\n",
       "      <th>2012</th>\n",
       "      <th>2013</th>\n",
       "      <th>2014</th>\n",
       "      <th>2015</th>\n",
       "      <th>2016</th>\n",
       "      <th>2017</th>\n",
       "      <th>2018</th>\n",
       "      <th>K</th>\n",
       "    </tr>\n",
       "  </thead>\n",
       "  <tbody>\n",
       "    <tr>\n",
       "      <th>0</th>\n",
       "      <td>United States</td>\n",
       "      <td>1.389056</td>\n",
       "      <td>1.595790</td>\n",
       "      <td>1.775413</td>\n",
       "      <td>2.144847</td>\n",
       "      <td>2.027166</td>\n",
       "      <td>1.834196</td>\n",
       "      <td>1.661588</td>\n",
       "      <td>1.572473</td>\n",
       "      <td>1.607834</td>\n",
       "      <td>...</td>\n",
       "      <td>1.997881</td>\n",
       "      <td>2.416858</td>\n",
       "      <td>2.670736</td>\n",
       "      <td>2.692942</td>\n",
       "      <td>2.768223</td>\n",
       "      <td>2.877261</td>\n",
       "      <td>2.851157</td>\n",
       "      <td>3.001163</td>\n",
       "      <td>3.202520</td>\n",
       "      <td>0.386356</td>\n",
       "    </tr>\n",
       "    <tr>\n",
       "      <th>1</th>\n",
       "      <td>Alabama</td>\n",
       "      <td>1.295665</td>\n",
       "      <td>1.428689</td>\n",
       "      <td>1.584354</td>\n",
       "      <td>1.938456</td>\n",
       "      <td>1.629056</td>\n",
       "      <td>1.385948</td>\n",
       "      <td>1.108657</td>\n",
       "      <td>0.771065</td>\n",
       "      <td>0.814147</td>\n",
       "      <td>...</td>\n",
       "      <td>0.858799</td>\n",
       "      <td>1.019051</td>\n",
       "      <td>1.046430</td>\n",
       "      <td>0.975455</td>\n",
       "      <td>0.914706</td>\n",
       "      <td>0.904720</td>\n",
       "      <td>0.737081</td>\n",
       "      <td>0.651524</td>\n",
       "      <td>0.545666</td>\n",
       "      <td>0.288689</td>\n",
       "    </tr>\n",
       "    <tr>\n",
       "      <th>2</th>\n",
       "      <td>Alaska</td>\n",
       "      <td>0.052020</td>\n",
       "      <td>0.000000</td>\n",
       "      <td>0.000000</td>\n",
       "      <td>0.908385</td>\n",
       "      <td>0.514732</td>\n",
       "      <td>0.271772</td>\n",
       "      <td>0.430287</td>\n",
       "      <td>0.215103</td>\n",
       "      <td>0.186155</td>\n",
       "      <td>...</td>\n",
       "      <td>0.477713</td>\n",
       "      <td>1.247997</td>\n",
       "      <td>0.977505</td>\n",
       "      <td>1.205228</td>\n",
       "      <td>1.005332</td>\n",
       "      <td>0.741492</td>\n",
       "      <td>0.724706</td>\n",
       "      <td>0.833785</td>\n",
       "      <td>0.511531</td>\n",
       "      <td>-0.052020</td>\n",
       "    </tr>\n",
       "    <tr>\n",
       "      <th>3</th>\n",
       "      <td>Arizona</td>\n",
       "      <td>1.518397</td>\n",
       "      <td>1.858147</td>\n",
       "      <td>1.991238</td>\n",
       "      <td>2.372026</td>\n",
       "      <td>2.652329</td>\n",
       "      <td>2.365850</td>\n",
       "      <td>2.187552</td>\n",
       "      <td>2.469217</td>\n",
       "      <td>4.257777</td>\n",
       "      <td>...</td>\n",
       "      <td>12.852525</td>\n",
       "      <td>17.843667</td>\n",
       "      <td>18.761808</td>\n",
       "      <td>13.842297</td>\n",
       "      <td>11.919521</td>\n",
       "      <td>10.029093</td>\n",
       "      <td>7.814437</td>\n",
       "      <td>6.417152</td>\n",
       "      <td>5.004393</td>\n",
       "      <td>0.472841</td>\n",
       "    </tr>\n",
       "    <tr>\n",
       "      <th>4</th>\n",
       "      <td>Arkansas</td>\n",
       "      <td>0.686259</td>\n",
       "      <td>0.607912</td>\n",
       "      <td>0.753114</td>\n",
       "      <td>1.046808</td>\n",
       "      <td>0.790488</td>\n",
       "      <td>0.783416</td>\n",
       "      <td>0.828824</td>\n",
       "      <td>0.773631</td>\n",
       "      <td>0.613266</td>\n",
       "      <td>...</td>\n",
       "      <td>0.816092</td>\n",
       "      <td>0.618154</td>\n",
       "      <td>0.587879</td>\n",
       "      <td>0.638613</td>\n",
       "      <td>0.691922</td>\n",
       "      <td>0.735230</td>\n",
       "      <td>0.635181</td>\n",
       "      <td>0.683839</td>\n",
       "      <td>0.976556</td>\n",
       "      <td>0.066856</td>\n",
       "    </tr>\n",
       "  </tbody>\n",
       "</table>\n",
       "<p>5 rows × 21 columns</p>\n",
       "</div>"
      ],
      "text/plain": [
       "           State      2000      2001      2002      2003      2004      2005  \\\n",
       "0  United States  1.389056  1.595790  1.775413  2.144847  2.027166  1.834196   \n",
       "1        Alabama  1.295665  1.428689  1.584354  1.938456  1.629056  1.385948   \n",
       "2         Alaska  0.052020  0.000000  0.000000  0.908385  0.514732  0.271772   \n",
       "3        Arizona  1.518397  1.858147  1.991238  2.372026  2.652329  2.365850   \n",
       "4       Arkansas  0.686259  0.607912  0.753114  1.046808  0.790488  0.783416   \n",
       "\n",
       "       2006      2007      2008  ...       2010       2011       2012  \\\n",
       "0  1.661588  1.572473  1.607834  ...   1.997881   2.416858   2.670736   \n",
       "1  1.108657  0.771065  0.814147  ...   0.858799   1.019051   1.046430   \n",
       "2  0.430287  0.215103  0.186155  ...   0.477713   1.247997   0.977505   \n",
       "3  2.187552  2.469217  4.257777  ...  12.852525  17.843667  18.761808   \n",
       "4  0.828824  0.773631  0.613266  ...   0.816092   0.618154   0.587879   \n",
       "\n",
       "        2013       2014       2015      2016      2017      2018         K  \n",
       "0   2.692942   2.768223   2.877261  2.851157  3.001163  3.202520  0.386356  \n",
       "1   0.975455   0.914706   0.904720  0.737081  0.651524  0.545666  0.288689  \n",
       "2   1.205228   1.005332   0.741492  0.724706  0.833785  0.511531 -0.052020  \n",
       "3  13.842297  11.919521  10.029093  7.814437  6.417152  5.004393  0.472841  \n",
       "4   0.638613   0.691922   0.735230  0.635181  0.683839  0.976556  0.066856  \n",
       "\n",
       "[5 rows x 21 columns]"
      ]
     },
     "execution_count": 21,
     "metadata": {},
     "output_type": "execute_result"
    }
   ],
   "source": [
    "#df_Dper1000I['P'] = [a - b for a in df_Dper1000I['2002'] for b in  df_Dper1000I['2000'] for x in df_Dper1000I['State'] if x == \"Alabama\"]\n",
    "\n",
    "df_Dper1000I['K'] = df_Dper1000I['2002']- df_Dper1000I['2000']  \n",
    "df_Dper1000I.head()"
   ]
  },
  {
   "cell_type": "code",
   "execution_count": 22,
   "metadata": {
    "scrolled": true
   },
   "outputs": [
    {
     "data": {
      "text/html": [
       "<div>\n",
       "<style scoped>\n",
       "    .dataframe tbody tr th:only-of-type {\n",
       "        vertical-align: middle;\n",
       "    }\n",
       "\n",
       "    .dataframe tbody tr th {\n",
       "        vertical-align: top;\n",
       "    }\n",
       "\n",
       "    .dataframe thead th {\n",
       "        text-align: right;\n",
       "    }\n",
       "</style>\n",
       "<table border=\"1\" class=\"dataframe\">\n",
       "  <thead>\n",
       "    <tr style=\"text-align: right;\">\n",
       "      <th></th>\n",
       "      <th>State</th>\n",
       "      <th>2000</th>\n",
       "      <th>2001</th>\n",
       "      <th>2002</th>\n",
       "      <th>2003</th>\n",
       "      <th>2004</th>\n",
       "      <th>2005</th>\n",
       "      <th>2006</th>\n",
       "      <th>2007</th>\n",
       "      <th>2008</th>\n",
       "      <th>...</th>\n",
       "      <th>2011</th>\n",
       "      <th>2012</th>\n",
       "      <th>2013</th>\n",
       "      <th>2014</th>\n",
       "      <th>2015</th>\n",
       "      <th>2016</th>\n",
       "      <th>2017</th>\n",
       "      <th>2018</th>\n",
       "      <th>K</th>\n",
       "      <th>P</th>\n",
       "    </tr>\n",
       "  </thead>\n",
       "  <tbody>\n",
       "    <tr>\n",
       "      <th>0</th>\n",
       "      <td>United States</td>\n",
       "      <td>1.389056</td>\n",
       "      <td>1.595790</td>\n",
       "      <td>1.775413</td>\n",
       "      <td>2.144847</td>\n",
       "      <td>2.027166</td>\n",
       "      <td>1.834196</td>\n",
       "      <td>1.661588</td>\n",
       "      <td>1.572473</td>\n",
       "      <td>1.607834</td>\n",
       "      <td>...</td>\n",
       "      <td>2.416858</td>\n",
       "      <td>2.670736</td>\n",
       "      <td>2.692942</td>\n",
       "      <td>2.768223</td>\n",
       "      <td>2.877261</td>\n",
       "      <td>2.851157</td>\n",
       "      <td>3.001163</td>\n",
       "      <td>3.202520</td>\n",
       "      <td>0.386356</td>\n",
       "      <td>0     0.386356\n",
       "1     0.288689\n",
       "2    -0.052020\n",
       "3...</td>\n",
       "    </tr>\n",
       "    <tr>\n",
       "      <th>1</th>\n",
       "      <td>Alabama</td>\n",
       "      <td>1.295665</td>\n",
       "      <td>1.428689</td>\n",
       "      <td>1.584354</td>\n",
       "      <td>1.938456</td>\n",
       "      <td>1.629056</td>\n",
       "      <td>1.385948</td>\n",
       "      <td>1.108657</td>\n",
       "      <td>0.771065</td>\n",
       "      <td>0.814147</td>\n",
       "      <td>...</td>\n",
       "      <td>1.019051</td>\n",
       "      <td>1.046430</td>\n",
       "      <td>0.975455</td>\n",
       "      <td>0.914706</td>\n",
       "      <td>0.904720</td>\n",
       "      <td>0.737081</td>\n",
       "      <td>0.651524</td>\n",
       "      <td>0.545666</td>\n",
       "      <td>0.288689</td>\n",
       "      <td>0</td>\n",
       "    </tr>\n",
       "    <tr>\n",
       "      <th>2</th>\n",
       "      <td>Alaska</td>\n",
       "      <td>0.052020</td>\n",
       "      <td>0.000000</td>\n",
       "      <td>0.000000</td>\n",
       "      <td>0.908385</td>\n",
       "      <td>0.514732</td>\n",
       "      <td>0.271772</td>\n",
       "      <td>0.430287</td>\n",
       "      <td>0.215103</td>\n",
       "      <td>0.186155</td>\n",
       "      <td>...</td>\n",
       "      <td>1.247997</td>\n",
       "      <td>0.977505</td>\n",
       "      <td>1.205228</td>\n",
       "      <td>1.005332</td>\n",
       "      <td>0.741492</td>\n",
       "      <td>0.724706</td>\n",
       "      <td>0.833785</td>\n",
       "      <td>0.511531</td>\n",
       "      <td>-0.052020</td>\n",
       "      <td>0     0.386356\n",
       "1     0.288689\n",
       "2    -0.052020\n",
       "3...</td>\n",
       "    </tr>\n",
       "    <tr>\n",
       "      <th>3</th>\n",
       "      <td>Arizona</td>\n",
       "      <td>1.518397</td>\n",
       "      <td>1.858147</td>\n",
       "      <td>1.991238</td>\n",
       "      <td>2.372026</td>\n",
       "      <td>2.652329</td>\n",
       "      <td>2.365850</td>\n",
       "      <td>2.187552</td>\n",
       "      <td>2.469217</td>\n",
       "      <td>4.257777</td>\n",
       "      <td>...</td>\n",
       "      <td>17.843667</td>\n",
       "      <td>18.761808</td>\n",
       "      <td>13.842297</td>\n",
       "      <td>11.919521</td>\n",
       "      <td>10.029093</td>\n",
       "      <td>7.814437</td>\n",
       "      <td>6.417152</td>\n",
       "      <td>5.004393</td>\n",
       "      <td>0.472841</td>\n",
       "      <td>0     0.386356\n",
       "1     0.288689\n",
       "2    -0.052020\n",
       "3...</td>\n",
       "    </tr>\n",
       "    <tr>\n",
       "      <th>4</th>\n",
       "      <td>Arkansas</td>\n",
       "      <td>0.686259</td>\n",
       "      <td>0.607912</td>\n",
       "      <td>0.753114</td>\n",
       "      <td>1.046808</td>\n",
       "      <td>0.790488</td>\n",
       "      <td>0.783416</td>\n",
       "      <td>0.828824</td>\n",
       "      <td>0.773631</td>\n",
       "      <td>0.613266</td>\n",
       "      <td>...</td>\n",
       "      <td>0.618154</td>\n",
       "      <td>0.587879</td>\n",
       "      <td>0.638613</td>\n",
       "      <td>0.691922</td>\n",
       "      <td>0.735230</td>\n",
       "      <td>0.635181</td>\n",
       "      <td>0.683839</td>\n",
       "      <td>0.976556</td>\n",
       "      <td>0.066856</td>\n",
       "      <td>0     0.386356\n",
       "1     0.288689\n",
       "2    -0.052020\n",
       "3...</td>\n",
       "    </tr>\n",
       "  </tbody>\n",
       "</table>\n",
       "<p>5 rows × 22 columns</p>\n",
       "</div>"
      ],
      "text/plain": [
       "           State      2000      2001      2002      2003      2004      2005  \\\n",
       "0  United States  1.389056  1.595790  1.775413  2.144847  2.027166  1.834196   \n",
       "1        Alabama  1.295665  1.428689  1.584354  1.938456  1.629056  1.385948   \n",
       "2         Alaska  0.052020  0.000000  0.000000  0.908385  0.514732  0.271772   \n",
       "3        Arizona  1.518397  1.858147  1.991238  2.372026  2.652329  2.365850   \n",
       "4       Arkansas  0.686259  0.607912  0.753114  1.046808  0.790488  0.783416   \n",
       "\n",
       "       2006      2007      2008  ...       2011       2012       2013  \\\n",
       "0  1.661588  1.572473  1.607834  ...   2.416858   2.670736   2.692942   \n",
       "1  1.108657  0.771065  0.814147  ...   1.019051   1.046430   0.975455   \n",
       "2  0.430287  0.215103  0.186155  ...   1.247997   0.977505   1.205228   \n",
       "3  2.187552  2.469217  4.257777  ...  17.843667  18.761808  13.842297   \n",
       "4  0.828824  0.773631  0.613266  ...   0.618154   0.587879   0.638613   \n",
       "\n",
       "        2014       2015      2016      2017      2018         K  \\\n",
       "0   2.768223   2.877261  2.851157  3.001163  3.202520  0.386356   \n",
       "1   0.914706   0.904720  0.737081  0.651524  0.545666  0.288689   \n",
       "2   1.005332   0.741492  0.724706  0.833785  0.511531 -0.052020   \n",
       "3  11.919521  10.029093  7.814437  6.417152  5.004393  0.472841   \n",
       "4   0.691922   0.735230  0.635181  0.683839  0.976556  0.066856   \n",
       "\n",
       "                                                   P  \n",
       "0  0     0.386356\n",
       "1     0.288689\n",
       "2    -0.052020\n",
       "3...  \n",
       "1                                                  0  \n",
       "2  0     0.386356\n",
       "1     0.288689\n",
       "2    -0.052020\n",
       "3...  \n",
       "3  0     0.386356\n",
       "1     0.288689\n",
       "2    -0.052020\n",
       "3...  \n",
       "4  0     0.386356\n",
       "1     0.288689\n",
       "2    -0.052020\n",
       "3...  \n",
       "\n",
       "[5 rows x 22 columns]"
      ]
     },
     "execution_count": 22,
     "metadata": {},
     "output_type": "execute_result"
    }
   ],
   "source": [
    "df_Dper1000I['P'] = [0 if x == 'Alabama' else df_Dper1000I['K'] for x in df_Dper1000I['State'] ]\n",
    "df_Dper1000I.head()"
   ]
  },
  {
   "cell_type": "code",
   "execution_count": 23,
   "metadata": {},
   "outputs": [
    {
     "data": {
      "text/plain": [
       "(60, 22)"
      ]
     },
     "execution_count": 23,
     "metadata": {},
     "output_type": "execute_result"
    }
   ],
   "source": [
    "df_Dper1000I['K'] = df_Dper1000I['2002']- df_Dper1000I['2000'] \n",
    "df_Dper1000I.dtypes\n",
    "#print(df_Dper1000I['P'])\n",
    "df_Dper1000I.shape"
   ]
  },
  {
   "cell_type": "code",
   "execution_count": 26,
   "metadata": {},
   "outputs": [
    {
     "data": {
      "text/html": [
       "<div>\n",
       "<style scoped>\n",
       "    .dataframe tbody tr th:only-of-type {\n",
       "        vertical-align: middle;\n",
       "    }\n",
       "\n",
       "    .dataframe tbody tr th {\n",
       "        vertical-align: top;\n",
       "    }\n",
       "\n",
       "    .dataframe thead th {\n",
       "        text-align: right;\n",
       "    }\n",
       "</style>\n",
       "<table border=\"1\" class=\"dataframe\">\n",
       "  <thead>\n",
       "    <tr style=\"text-align: right;\">\n",
       "      <th></th>\n",
       "      <th>State</th>\n",
       "      <th>2000</th>\n",
       "      <th>2001</th>\n",
       "      <th>2002</th>\n",
       "      <th>2003</th>\n",
       "      <th>2004</th>\n",
       "      <th>2005</th>\n",
       "      <th>2006</th>\n",
       "      <th>2007</th>\n",
       "      <th>2008</th>\n",
       "      <th>...</th>\n",
       "      <th>2011</th>\n",
       "      <th>2012</th>\n",
       "      <th>2013</th>\n",
       "      <th>2014</th>\n",
       "      <th>2015</th>\n",
       "      <th>2016</th>\n",
       "      <th>2017</th>\n",
       "      <th>2018</th>\n",
       "      <th>K</th>\n",
       "      <th>P</th>\n",
       "    </tr>\n",
       "  </thead>\n",
       "  <tbody>\n",
       "    <tr>\n",
       "      <th>0</th>\n",
       "      <td>United States</td>\n",
       "      <td>1.389056</td>\n",
       "      <td>1.595790</td>\n",
       "      <td>1.775413</td>\n",
       "      <td>2.144847</td>\n",
       "      <td>2.027166</td>\n",
       "      <td>1.834196</td>\n",
       "      <td>1.661588</td>\n",
       "      <td>1.572473</td>\n",
       "      <td>1.607834</td>\n",
       "      <td>...</td>\n",
       "      <td>2.416858</td>\n",
       "      <td>2.670736</td>\n",
       "      <td>2.692942</td>\n",
       "      <td>2.768223</td>\n",
       "      <td>2.877261</td>\n",
       "      <td>2.851157</td>\n",
       "      <td>3.001163</td>\n",
       "      <td>3.202520</td>\n",
       "      <td>0.386356</td>\n",
       "      <td>Y</td>\n",
       "    </tr>\n",
       "    <tr>\n",
       "      <th>1</th>\n",
       "      <td>Alabama</td>\n",
       "      <td>1.295665</td>\n",
       "      <td>1.428689</td>\n",
       "      <td>1.584354</td>\n",
       "      <td>1.938456</td>\n",
       "      <td>1.629056</td>\n",
       "      <td>1.385948</td>\n",
       "      <td>1.108657</td>\n",
       "      <td>0.771065</td>\n",
       "      <td>0.814147</td>\n",
       "      <td>...</td>\n",
       "      <td>1.019051</td>\n",
       "      <td>1.046430</td>\n",
       "      <td>0.975455</td>\n",
       "      <td>0.914706</td>\n",
       "      <td>0.904720</td>\n",
       "      <td>0.737081</td>\n",
       "      <td>0.651524</td>\n",
       "      <td>0.545666</td>\n",
       "      <td>0.288689</td>\n",
       "      <td>Y</td>\n",
       "    </tr>\n",
       "    <tr>\n",
       "      <th>2</th>\n",
       "      <td>Alaska</td>\n",
       "      <td>0.052020</td>\n",
       "      <td>0.000000</td>\n",
       "      <td>0.000000</td>\n",
       "      <td>0.908385</td>\n",
       "      <td>0.514732</td>\n",
       "      <td>0.271772</td>\n",
       "      <td>0.430287</td>\n",
       "      <td>0.215103</td>\n",
       "      <td>0.186155</td>\n",
       "      <td>...</td>\n",
       "      <td>1.247997</td>\n",
       "      <td>0.977505</td>\n",
       "      <td>1.205228</td>\n",
       "      <td>1.005332</td>\n",
       "      <td>0.741492</td>\n",
       "      <td>0.724706</td>\n",
       "      <td>0.833785</td>\n",
       "      <td>0.511531</td>\n",
       "      <td>-0.052020</td>\n",
       "      <td>Y</td>\n",
       "    </tr>\n",
       "    <tr>\n",
       "      <th>3</th>\n",
       "      <td>Arizona</td>\n",
       "      <td>1.518397</td>\n",
       "      <td>1.858147</td>\n",
       "      <td>1.991238</td>\n",
       "      <td>2.372026</td>\n",
       "      <td>2.652329</td>\n",
       "      <td>2.365850</td>\n",
       "      <td>2.187552</td>\n",
       "      <td>2.469217</td>\n",
       "      <td>4.257777</td>\n",
       "      <td>...</td>\n",
       "      <td>17.843667</td>\n",
       "      <td>18.761808</td>\n",
       "      <td>13.842297</td>\n",
       "      <td>11.919521</td>\n",
       "      <td>10.029093</td>\n",
       "      <td>7.814437</td>\n",
       "      <td>6.417152</td>\n",
       "      <td>5.004393</td>\n",
       "      <td>0.472841</td>\n",
       "      <td>Y</td>\n",
       "    </tr>\n",
       "    <tr>\n",
       "      <th>4</th>\n",
       "      <td>Arkansas</td>\n",
       "      <td>0.686259</td>\n",
       "      <td>0.607912</td>\n",
       "      <td>0.753114</td>\n",
       "      <td>1.046808</td>\n",
       "      <td>0.790488</td>\n",
       "      <td>0.783416</td>\n",
       "      <td>0.828824</td>\n",
       "      <td>0.773631</td>\n",
       "      <td>0.613266</td>\n",
       "      <td>...</td>\n",
       "      <td>0.618154</td>\n",
       "      <td>0.587879</td>\n",
       "      <td>0.638613</td>\n",
       "      <td>0.691922</td>\n",
       "      <td>0.735230</td>\n",
       "      <td>0.635181</td>\n",
       "      <td>0.683839</td>\n",
       "      <td>0.976556</td>\n",
       "      <td>0.066856</td>\n",
       "      <td>Y</td>\n",
       "    </tr>\n",
       "  </tbody>\n",
       "</table>\n",
       "<p>5 rows × 22 columns</p>\n",
       "</div>"
      ],
      "text/plain": [
       "           State      2000      2001      2002      2003      2004      2005  \\\n",
       "0  United States  1.389056  1.595790  1.775413  2.144847  2.027166  1.834196   \n",
       "1        Alabama  1.295665  1.428689  1.584354  1.938456  1.629056  1.385948   \n",
       "2         Alaska  0.052020  0.000000  0.000000  0.908385  0.514732  0.271772   \n",
       "3        Arizona  1.518397  1.858147  1.991238  2.372026  2.652329  2.365850   \n",
       "4       Arkansas  0.686259  0.607912  0.753114  1.046808  0.790488  0.783416   \n",
       "\n",
       "       2006      2007      2008  ...       2011       2012       2013  \\\n",
       "0  1.661588  1.572473  1.607834  ...   2.416858   2.670736   2.692942   \n",
       "1  1.108657  0.771065  0.814147  ...   1.019051   1.046430   0.975455   \n",
       "2  0.430287  0.215103  0.186155  ...   1.247997   0.977505   1.205228   \n",
       "3  2.187552  2.469217  4.257777  ...  17.843667  18.761808  13.842297   \n",
       "4  0.828824  0.773631  0.613266  ...   0.618154   0.587879   0.638613   \n",
       "\n",
       "        2014       2015      2016      2017      2018         K  P  \n",
       "0   2.768223   2.877261  2.851157  3.001163  3.202520  0.386356  Y  \n",
       "1   0.914706   0.904720  0.737081  0.651524  0.545666  0.288689  Y  \n",
       "2   1.005332   0.741492  0.724706  0.833785  0.511531 -0.052020  Y  \n",
       "3  11.919521  10.029093  7.814437  6.417152  5.004393  0.472841  Y  \n",
       "4   0.691922   0.735230  0.635181  0.683839  0.976556  0.066856  Y  \n",
       "\n",
       "[5 rows x 22 columns]"
      ]
     },
     "execution_count": 26,
     "metadata": {},
     "output_type": "execute_result"
    }
   ],
   "source": [
    "for x in df_Dper1000I['2000']:\n",
    "    if x != 1.295665:\n",
    "        df_Dper1000I['P'] = 'Y'\n",
    "    else:\n",
    "        df_Dper1000I['P'] = 'N'\n",
    "df_Dper1000I.head()\n",
    "df_Dper1000I.dtypes\n",
    "for x in df_Dper1000I['State']:\n",
    "    if x == \"United States\":\n",
    "        df_Dper1000I['P'] == 'Y'\n",
    "        break \n",
    "    else:    \n",
    "        df_Dper1000I['P'] == 'N'\n",
    "         \n",
    "df_Dper1000I.head()\n",
    "# df_Dper1000I['P'] = (df_Dper1000I['py-score'] >= 80) & (df_Dper1000I['js-score'] >= 80)"
   ]
  },
  {
   "cell_type": "code",
   "execution_count": null,
   "metadata": {},
   "outputs": [],
   "source": [
    "df_Dper1000I['P']  = df_Dper1000I.apply(lambda row: row[\"2003\"] - row['2000'] if row[\"State\"] == 'Alabama' else np.nan, axis=1)\n",
    "df_Dper1000I.head(50)"
   ]
  },
  {
   "cell_type": "code",
   "execution_count": null,
   "metadata": {},
   "outputs": [],
   "source": [
    "df_Dper1000I.iloc[:54]"
   ]
  },
  {
   "cell_type": "code",
   "execution_count": null,
   "metadata": {},
   "outputs": [],
   "source": [
    "df_Dper1000I = df_Dper1000I.dropna()\n",
    "df_Dper1000I.iloc[:54]"
   ]
  },
  {
   "cell_type": "code",
   "execution_count": null,
   "metadata": {},
   "outputs": [],
   "source": [
    "df_Dper1000I = df_Dper1000I.iloc[1:54]"
   ]
  },
  {
   "cell_type": "code",
   "execution_count": null,
   "metadata": {},
   "outputs": [],
   "source": [
    "df_Dper1000I.shape"
   ]
  },
  {
   "cell_type": "code",
   "execution_count": null,
   "metadata": {},
   "outputs": [],
   "source": [
    "df_Dper1000I.index"
   ]
  },
  {
   "cell_type": "code",
   "execution_count": null,
   "metadata": {},
   "outputs": [],
   "source": [
    "df_Dper1000I.dtypes"
   ]
  },
  {
   "cell_type": "code",
   "execution_count": null,
   "metadata": {},
   "outputs": [],
   "source": [
    "df_Dper1000I.info()"
   ]
  },
  {
   "cell_type": "code",
   "execution_count": null,
   "metadata": {},
   "outputs": [],
   "source": [
    "df_Dper1000I.describe(include = 'all')"
   ]
  },
  {
   "cell_type": "markdown",
   "metadata": {},
   "source": [
    "There are several commands to work on data of *pandas* dataframe such as subsetting, grouping, and merging. "
   ]
  },
  {
   "cell_type": "code",
   "execution_count": null,
   "metadata": {},
   "outputs": [],
   "source": [
    "state = df_Dper1000I['State']"
   ]
  },
  {
   "cell_type": "code",
   "execution_count": null,
   "metadata": {},
   "outputs": [],
   "source": [
    "state.head()"
   ]
  },
  {
   "cell_type": "code",
   "execution_count": null,
   "metadata": {},
   "outputs": [],
   "source": [
    "state.tail()"
   ]
  },
  {
   "cell_type": "code",
   "execution_count": null,
   "metadata": {},
   "outputs": [],
   "source": [
    "type(df_Dper1000I)"
   ]
  },
  {
   "cell_type": "code",
   "execution_count": null,
   "metadata": {},
   "outputs": [],
   "source": [
    "type(state)"
   ]
  },
  {
   "cell_type": "code",
   "execution_count": null,
   "metadata": {},
   "outputs": [],
   "source": [
    "#df_Dper1000I.set_index('State', inplace = True)\n",
    "df_Dper1000I.head()"
   ]
  },
  {
   "cell_type": "code",
   "execution_count": null,
   "metadata": {},
   "outputs": [],
   "source": [
    "df_Dper1000I['2018'].mean()"
   ]
  },
  {
   "cell_type": "code",
   "execution_count": null,
   "metadata": {},
   "outputs": [],
   "source": [
    "df_Dper1000I['2018']>df_Dper1000I['2018'].mean()"
   ]
  },
  {
   "cell_type": "code",
   "execution_count": null,
   "metadata": {},
   "outputs": [],
   "source": [
    "from bs4 import BeautifulSoup\n",
    "# Python 3.x\n",
    "from urllib.request import urlopen, urlretrieve, quote\n",
    "from urllib.parse import urljoin\n",
    "\n",
    "#url = 'https://www.rbi.org.in/Scripts/bs_viewcontent.aspx?Id=2009/'\n",
    "\n",
    "url = 'https://ncses.nsf.gov/pubs/nsf21303#data-tables/nsf21303-tab002.xlxs'\n"
   ]
  },
  {
   "cell_type": "code",
   "execution_count": null,
   "metadata": {},
   "outputs": [],
   "source": [
    "#soup"
   ]
  },
  {
   "cell_type": "code",
   "execution_count": null,
   "metadata": {},
   "outputs": [],
   "source": [
    "\n",
    "df = pd.read_excel('https://ncses.nsf.gov/pubs/nsf21303/assets/data-tables/tables/nsf21303-tab002.xlsx', index_col=0)\n"
   ]
  },
  {
   "cell_type": "code",
   "execution_count": null,
   "metadata": {},
   "outputs": [],
   "source": [
    "import requests, os\n",
    "import http.client\n",
    "\n",
    "http.client.HTTPConnection._http_vsn = 10\n",
    "http.client.HTTPConnection._http_vsn_str = 'HTTP/1.0'\n",
    "\n",
    "url=\"https://ncses.nsf.gov/pubs/nsf21303#data-tables\"\n",
    "\n",
    "print(\"Downloading...\")\n",
    "resp = requests.get(url)\n",
    "with open('nsf21303-tab002.xlsx', 'wb') as output:\n",
    "    output.write(resp.content)\n",
    "print(\"Done!\")"
   ]
  },
  {
   "cell_type": "code",
   "execution_count": null,
   "metadata": {},
   "outputs": [],
   "source": [
    "df = pd.read_excel(\"https://ncses.nsf.gov/pubs/nsf21303/assets/data-tables/tables/nsf21303-tab001.xlsx\", skiprows = [0, 1, 2], usecols= [0, 1, 3, 5])"
   ]
  },
  {
   "cell_type": "code",
   "execution_count": null,
   "metadata": {},
   "outputs": [],
   "source": [
    "df.head()"
   ]
  },
  {
   "cell_type": "code",
   "execution_count": null,
   "metadata": {},
   "outputs": [],
   "source": [
    "df.columns"
   ]
  },
  {
   "cell_type": "code",
   "execution_count": null,
   "metadata": {},
   "outputs": [],
   "source": []
  }
 ],
 "metadata": {
  "hide_input": false,
  "kernelspec": {
   "display_name": "Python 3 (ipykernel)",
   "language": "python",
   "name": "python3"
  },
  "language_info": {
   "codemirror_mode": {
    "name": "ipython",
    "version": 3
   },
   "file_extension": ".py",
   "mimetype": "text/x-python",
   "name": "python",
   "nbconvert_exporter": "python",
   "pygments_lexer": "ipython3",
   "version": "3.8.12"
  },
  "latex_envs": {
   "LaTeX_envs_menu_present": true,
   "autoclose": false,
   "autocomplete": true,
   "bibliofile": "biblio.bib",
   "cite_by": "apalike",
   "current_citInitial": 1,
   "eqLabelWithNumbers": true,
   "eqNumInitial": 1,
   "hotkeys": {
    "equation": "Ctrl-E",
    "itemize": "Ctrl-I"
   },
   "labels_anchors": false,
   "latex_user_defs": false,
   "report_style_numbering": false,
   "user_envs_cfg": false
  },
  "varInspector": {
   "cols": {
    "lenName": 16,
    "lenType": 16,
    "lenVar": 40
   },
   "kernels_config": {
    "python": {
     "delete_cmd_postfix": "",
     "delete_cmd_prefix": "del ",
     "library": "var_list.py",
     "varRefreshCmd": "print(var_dic_list())"
    },
    "r": {
     "delete_cmd_postfix": ") ",
     "delete_cmd_prefix": "rm(",
     "library": "var_list.r",
     "varRefreshCmd": "cat(var_dic_list()) "
    }
   },
   "types_to_exclude": [
    "module",
    "function",
    "builtin_function_or_method",
    "instance",
    "_Feature"
   ],
   "window_display": false
  }
 },
 "nbformat": 4,
 "nbformat_minor": 4
}
