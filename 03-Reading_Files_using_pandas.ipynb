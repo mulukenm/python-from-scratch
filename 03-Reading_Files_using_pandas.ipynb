{
 "cells": [
  {
   "cell_type": "markdown",
   "id": "3b6814ef",
   "metadata": {},
   "source": [
    "## Reading Data\n",
    "\n",
    "You can read data from e sources using pandas such as excel, csv, online sources, SAS file, SPSS file."
   ]
  },
  {
   "cell_type": "code",
   "execution_count": 1,
   "id": "cced757f",
   "metadata": {},
   "outputs": [],
   "source": [
    "import pandas as pd\n",
    "import pyreadstat"
   ]
  },
  {
   "cell_type": "code",
   "execution_count": 7,
   "id": "60778712",
   "metadata": {
    "scrolled": true
   },
   "outputs": [
    {
     "ename": "PyreadstatError",
     "evalue": "File ../WorkingFiles/Pew/Pewdata.sav does not exist!",
     "output_type": "error",
     "traceback": [
      "\u001b[1;31m---------------------------------------------------------------------------\u001b[0m",
      "\u001b[1;31mPyreadstatError\u001b[0m                           Traceback (most recent call last)",
      "\u001b[1;32m<ipython-input-7-53c5efac397b>\u001b[0m in \u001b[0;36m<module>\u001b[1;34m\u001b[0m\n\u001b[0;32m      1\u001b[0m \u001b[1;31m# Reading .sav (SPSS) data\u001b[0m\u001b[1;33m\u001b[0m\u001b[1;33m\u001b[0m\u001b[1;33m\u001b[0m\u001b[0m\n\u001b[1;32m----> 2\u001b[1;33m \u001b[0mdf\u001b[0m\u001b[1;33m,\u001b[0m \u001b[0mmeta\u001b[0m \u001b[1;33m=\u001b[0m \u001b[0mpyreadstat\u001b[0m\u001b[1;33m.\u001b[0m\u001b[0mread_sav\u001b[0m\u001b[1;33m(\u001b[0m\u001b[1;34m'../WorkingFiles/Pew/Pewdata.sav'\u001b[0m\u001b[1;33m)\u001b[0m\u001b[1;33m\u001b[0m\u001b[1;33m\u001b[0m\u001b[0m\n\u001b[0m",
      "\u001b[1;32mpyreadstat\\pyreadstat.pyx\u001b[0m in \u001b[0;36mpyreadstat.pyreadstat.read_sav\u001b[1;34m()\u001b[0m\n",
      "\u001b[1;32mpyreadstat\\_readstat_parser.pyx\u001b[0m in \u001b[0;36mpyreadstat._readstat_parser.run_conversion\u001b[1;34m()\u001b[0m\n",
      "\u001b[1;31mPyreadstatError\u001b[0m: File ../WorkingFiles/Pew/Pewdata.sav does not exist!"
     ]
    }
   ],
   "source": [
    "# Reading .sav (SPSS) data\n",
    "df, meta = pyreadstat.read_sav('../../WorkingFiles/Pew/Pewdata.sav')"
   ]
  },
  {
   "cell_type": "code",
   "execution_count": null,
   "id": "3cb40fd5",
   "metadata": {},
   "outputs": [],
   "source": []
  }
 ],
 "metadata": {
  "hide_input": false,
  "kernelspec": {
   "display_name": "Python 3",
   "language": "python",
   "name": "python3"
  },
  "language_info": {
   "codemirror_mode": {
    "name": "ipython",
    "version": 3
   },
   "file_extension": ".py",
   "mimetype": "text/x-python",
   "name": "python",
   "nbconvert_exporter": "python",
   "pygments_lexer": "ipython3",
   "version": "3.8.8"
  },
  "latex_envs": {
   "LaTeX_envs_menu_present": true,
   "autoclose": false,
   "autocomplete": true,
   "bibliofile": "biblio.bib",
   "cite_by": "apalike",
   "current_citInitial": 1,
   "eqLabelWithNumbers": true,
   "eqNumInitial": 1,
   "hotkeys": {
    "equation": "Ctrl-E",
    "itemize": "Ctrl-I"
   },
   "labels_anchors": false,
   "latex_user_defs": false,
   "report_style_numbering": false,
   "user_envs_cfg": false
  }
 },
 "nbformat": 4,
 "nbformat_minor": 5
}
