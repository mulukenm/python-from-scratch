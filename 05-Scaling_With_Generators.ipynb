{
 "cells": [
  {
   "cell_type": "markdown",
   "id": "feed316b",
   "metadata": {},
   "source": [
    "# Scaling With Generators\n",
    "##    Iteration in Python\n",
    "\n",
    "Python has a built-in function called iter(). When you pass it a collection , you get back an iterator object."
   ]
  },
  {
   "cell_type": "code",
   "execution_count": 2,
   "id": "99c9deee",
   "metadata": {},
   "outputs": [
    {
     "data": {
      "text/plain": [
       "<list_iterator at 0x206404167a0>"
      ]
     },
     "execution_count": 2,
     "metadata": {},
     "output_type": "execute_result"
    }
   ],
   "source": [
    "numbers = [7, 4, 11, 3, 5, 9]\n",
    "iter(numbers)"
   ]
  },
  {
   "cell_type": "code",
   "execution_count": 3,
   "id": "9a2b502e",
   "metadata": {},
   "outputs": [
    {
     "name": "stdout",
     "output_type": "stream",
     "text": [
      "7\n",
      "4\n",
      "11\n",
      "3\n",
      "5\n",
      "9\n"
     ]
    }
   ],
   "source": [
    "numbers_iter = iter(numbers)\n",
    "for num in numbers_iter:\n",
    "    print(num)"
   ]
  },
  {
   "cell_type": "code",
   "execution_count": 4,
   "id": "c6911be6",
   "metadata": {},
   "outputs": [
    {
     "name": "stdout",
     "output_type": "stream",
     "text": [
      "7\n",
      "4\n",
      "11\n",
      "3\n",
      "5\n",
      "9\n"
     ]
    }
   ],
   "source": [
    "#Or ---directly from numbers with out using iter()\n",
    "for num in numbers:\n",
    "    print(num)"
   ]
  },
  {
   "cell_type": "code",
   "execution_count": 5,
   "id": "c7a70332",
   "metadata": {},
   "outputs": [
    {
     "name": "stdout",
     "output_type": "stream",
     "text": [
      "2225898365760\n",
      "2225887240128\n"
     ]
    }
   ],
   "source": [
    "# Each object have its own identity---can be verified with id()-- different objects have different IDs\n",
    "print(id(numbers))\n",
    "print(id(numbers_iter))"
   ]
  },
  {
   "cell_type": "code",
   "execution_count": 7,
   "id": "c92f72ce",
   "metadata": {},
   "outputs": [
    {
     "data": {
      "text/plain": [
       "<method-wrapper '__iter__' of list object at 0x0000020641E1A340>"
      ]
     },
     "execution_count": 7,
     "metadata": {},
     "output_type": "execute_result"
    }
   ],
   "source": [
    "numbers.__iter__"
   ]
  },
  {
   "cell_type": "code",
   "execution_count": null,
   "id": "258ea46c",
   "metadata": {},
   "outputs": [],
   "source": [
    "e# __iter__() is a mgic method that helped iter() to get the iterator"
   ]
  },
  {
   "cell_type": "code",
   "execution_count": 8,
   "id": "a2b0d590",
   "metadata": {},
   "outputs": [
    {
     "data": {
      "text/plain": [
       "<list_iterator at 0x206413cc670>"
      ]
     },
     "execution_count": 8,
     "metadata": {},
     "output_type": "execute_result"
    }
   ],
   "source": [
    "numbers.__iter__()"
   ]
  },
  {
   "cell_type": "code",
   "execution_count": 9,
   "id": "c70fa85f",
   "metadata": {},
   "outputs": [
    {
     "data": {
      "text/plain": [
       "<list_iterator at 0x2064137dfc0>"
      ]
     },
     "execution_count": 9,
     "metadata": {},
     "output_type": "execute_result"
    }
   ],
   "source": [
    "numbers_iter.__iter__()"
   ]
  },
  {
   "cell_type": "code",
   "execution_count": null,
   "id": "b58e4b2a",
   "metadata": {},
   "outputs": [],
   "source": []
  }
 ],
 "metadata": {
  "kernelspec": {
   "display_name": "Python 3 (ipykernel)",
   "language": "python",
   "name": "python3"
  },
  "language_info": {
   "codemirror_mode": {
    "name": "ipython",
    "version": 3
   },
   "file_extension": ".py",
   "mimetype": "text/x-python",
   "name": "python",
   "nbconvert_exporter": "python",
   "pygments_lexer": "ipython3",
   "version": "3.12.3"
  }
 },
 "nbformat": 4,
 "nbformat_minor": 5
}
