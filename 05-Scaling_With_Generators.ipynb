{
 "cells": [
  {
   "cell_type": "markdown",
   "id": "feed316b",
   "metadata": {},
   "source": [
    "                                                                    Powerful Python ----By Aaron Maxwell\n",
    "\n",
    "# Scaling With Generators\n",
    "##    Iteration in Python\n",
    "\n",
    "Python has a built-in function called iter(). When you pass it a collection , you get back an iterator object."
   ]
  },
  {
   "cell_type": "code",
   "execution_count": null,
   "id": "99c9deee",
   "metadata": {},
   "outputs": [],
   "source": [
    "numbers = [7, 4, 11, 3, 5, 9]\n",
    "iter(numbers)"
   ]
  },
  {
   "cell_type": "code",
   "execution_count": null,
   "id": "9a2b502e",
   "metadata": {},
   "outputs": [],
   "source": [
    "numbers_iter = iter(numbers)\n",
    "for num in numbers_iter:\n",
    "    print(num)"
   ]
  },
  {
   "cell_type": "code",
   "execution_count": null,
   "id": "c6911be6",
   "metadata": {},
   "outputs": [],
   "source": [
    "#Or ---directly from numbers with out using iter()\n",
    "for num in numbers:\n",
    "    print(num)"
   ]
  },
  {
   "cell_type": "code",
   "execution_count": null,
   "id": "c7a70332",
   "metadata": {},
   "outputs": [],
   "source": [
    "# Each object have its own identity---can be verified with id()-- different objects have different IDs\n",
    "print(id(numbers))\n",
    "print(id(numbers_iter))"
   ]
  },
  {
   "cell_type": "code",
   "execution_count": null,
   "id": "c92f72ce",
   "metadata": {},
   "outputs": [],
   "source": [
    "numbers.__iter__"
   ]
  },
  {
   "cell_type": "code",
   "execution_count": null,
   "id": "a2b0d590",
   "metadata": {},
   "outputs": [],
   "source": [
    "# __iter__() is a mgic method that helped iter() to get the iterator\n",
    "numbers.__iter__()"
   ]
  },
  {
   "cell_type": "code",
   "execution_count": null,
   "id": "c70fa85f",
   "metadata": {},
   "outputs": [],
   "source": [
    "numbers_iter.__iter__()"
   ]
  },
  {
   "cell_type": "code",
   "execution_count": null,
   "id": "b58e4b2a",
   "metadata": {},
   "outputs": [],
   "source": [
    "# next()\n",
    "names = [\"Tom\", \"Shelly\", \"Garth\"]\n",
    "\n",
    "# Create a fresh literator\n",
    "names_it = iter(names)"
   ]
  },
  {
   "cell_type": "code",
   "execution_count": null,
   "id": "ff5b76ca",
   "metadata": {},
   "outputs": [],
   "source": [
    "next(names_it)"
   ]
  },
  {
   "cell_type": "code",
   "execution_count": null,
   "id": "9ff282d1",
   "metadata": {},
   "outputs": [],
   "source": [
    "next(names_it)"
   ]
  },
  {
   "cell_type": "code",
   "execution_count": null,
   "id": "c25adade",
   "metadata": {},
   "outputs": [],
   "source": [
    "next(names_it)"
   ]
  },
  {
   "cell_type": "code",
   "execution_count": null,
   "id": "3361a05b",
   "metadata": {},
   "outputs": [],
   "source": [
    "# will give error, as it is beyond the size of the list\n",
    "next(names_it)"
   ]
  },
  {
   "cell_type": "code",
   "execution_count": 6,
   "id": "78419641",
   "metadata": {},
   "outputs": [
    {
     "data": {
      "text/plain": [
       "[0, 1, 4, 9, 16, 25, 36, 49, 64, 81]"
      ]
     },
     "execution_count": 6,
     "metadata": {},
     "output_type": "execute_result"
    }
   ],
   "source": [
    "# A function tthat creates a list of square numbers\n",
    "\n",
    "def fetch_squares(max_root):\n",
    "    squares = []\n",
    "    for n in range(max_root):\n",
    "        squares.append(n**2)\n",
    "    return squares\n",
    "MAX = 10\n",
    "fetch_squares(MAX)"
   ]
  },
  {
   "cell_type": "code",
   "execution_count": 7,
   "id": "0778dcac",
   "metadata": {},
   "outputs": [
    {
     "name": "stdout",
     "output_type": "stream",
     "text": [
      "0\n",
      "1\n",
      "4\n",
      "9\n",
      "16\n",
      "25\n",
      "36\n",
      "49\n",
      "64\n",
      "81\n"
     ]
    }
   ],
   "source": [
    "# A for loop that uses the function \n",
    "for square in fetch_squares(MAX):\n",
    "    print(square)"
   ]
  },
  {
   "cell_type": "markdown",
   "id": "b04b5038",
   "metadata": {},
   "source": [
    "## Generator Function"
   ]
  },
  {
   "cell_type": "code",
   "execution_count": 8,
   "id": "d14d921e",
   "metadata": {},
   "outputs": [
    {
     "name": "stdout",
     "output_type": "stream",
     "text": [
      "0\n",
      "1\n",
      "2\n",
      "3\n"
     ]
    }
   ],
   "source": [
    "def gen_nums():\n",
    "    n = 0\n",
    "    while n < 4:\n",
    "        yield n\n",
    "        n += 1\n",
    "        \n",
    "        \n",
    "for num in gen_nums():\n",
    "    print(num)"
   ]
  },
  {
   "cell_type": "code",
   "execution_count": null,
   "id": "cfa01d61",
   "metadata": {},
   "outputs": [],
   "source": []
  }
 ],
 "metadata": {
  "kernelspec": {
   "display_name": "Python 3 (ipykernel)",
   "language": "python",
   "name": "python3"
  },
  "language_info": {
   "codemirror_mode": {
    "name": "ipython",
    "version": 3
   },
   "file_extension": ".py",
   "mimetype": "text/x-python",
   "name": "python",
   "nbconvert_exporter": "python",
   "pygments_lexer": "ipython3",
   "version": "3.12.3"
  }
 },
 "nbformat": 4,
 "nbformat_minor": 5
}
