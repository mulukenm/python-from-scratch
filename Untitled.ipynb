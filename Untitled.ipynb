{
 "cells": [
  {
   "cell_type": "markdown",
   "id": "bd3fcab1",
   "metadata": {},
   "source": [
    "Based on Dan Baden Python Tricks Book\n",
    "\n",
    "\n",
    "## Assert in Python\n",
    "\n",
    "AssertionError exception using Python’s built-in assert statement as a debugging aid\n",
    "\n",
    "Assertions are meant to be internal self-checks for your program. If your program is bug-free, these conditions will never occur. But if they do occur, the program will crash with an assertion error telling you exactly which “impossible” condition was triggered."
   ]
  },
  {
   "cell_type": "code",
   "execution_count": 18,
   "id": "0182b5d6",
   "metadata": {},
   "outputs": [],
   "source": [
    "def apply_discount(product, discount):\n",
    "    price = int(product['price'] * (1.0 - discount))\n",
    "    assert 0 <= price <= product['price']\n",
    "    return price"
   ]
  },
  {
   "cell_type": "code",
   "execution_count": 19,
   "id": "7e71d0a1",
   "metadata": {},
   "outputs": [],
   "source": [
    "shoes = {'name': 'Fancy Shoes', 'price': 14900}"
   ]
  },
  {
   "cell_type": "code",
   "execution_count": 20,
   "id": "c8f78c6f",
   "metadata": {},
   "outputs": [
    {
     "data": {
      "text/plain": [
       "11175"
      ]
     },
     "execution_count": 20,
     "metadata": {},
     "output_type": "execute_result"
    }
   ],
   "source": [
    "apply_discount(shoes, 0.25)"
   ]
  },
  {
   "cell_type": "code",
   "execution_count": 21,
   "id": "2f75ab63",
   "metadata": {},
   "outputs": [
    {
     "data": {
      "text/plain": [
       "0"
      ]
     },
     "execution_count": 21,
     "metadata": {},
     "output_type": "execute_result"
    }
   ],
   "source": [
    "apply_discount(shoes, 1.0)"
   ]
  },
  {
   "cell_type": "code",
   "execution_count": 17,
   "id": "2283c9a5",
   "metadata": {
    "scrolled": true
   },
   "outputs": [
    {
     "ename": "AssertionError",
     "evalue": "",
     "output_type": "error",
     "traceback": [
      "\u001b[1;31m---------------------------------------------------------------------------\u001b[0m",
      "\u001b[1;31mAssertionError\u001b[0m                            Traceback (most recent call last)",
      "Input \u001b[1;32mIn [17]\u001b[0m, in \u001b[0;36m<cell line: 1>\u001b[1;34m()\u001b[0m\n\u001b[1;32m----> 1\u001b[0m \u001b[43mapply_discount\u001b[49m\u001b[43m(\u001b[49m\u001b[43mshoes\u001b[49m\u001b[43m,\u001b[49m\u001b[43m \u001b[49m\u001b[38;5;241;43m2.0\u001b[39;49m\u001b[43m)\u001b[49m\n",
      "Input \u001b[1;32mIn [13]\u001b[0m, in \u001b[0;36mapply_discount\u001b[1;34m(product, discount)\u001b[0m\n\u001b[0;32m      1\u001b[0m \u001b[38;5;28;01mdef\u001b[39;00m \u001b[38;5;21mapply_discount\u001b[39m(product, discount):\n\u001b[0;32m      2\u001b[0m     price \u001b[38;5;241m=\u001b[39m \u001b[38;5;28mint\u001b[39m(product[\u001b[38;5;124m'\u001b[39m\u001b[38;5;124mprice\u001b[39m\u001b[38;5;124m'\u001b[39m] \u001b[38;5;241m*\u001b[39m (\u001b[38;5;241m1.0\u001b[39m \u001b[38;5;241m-\u001b[39m discount))\n\u001b[1;32m----> 3\u001b[0m     \u001b[38;5;28;01massert\u001b[39;00m \u001b[38;5;241m0\u001b[39m \u001b[38;5;241m<\u001b[39m\u001b[38;5;241m=\u001b[39m price \u001b[38;5;241m<\u001b[39m\u001b[38;5;241m=\u001b[39m product[\u001b[38;5;124m'\u001b[39m\u001b[38;5;124mprice\u001b[39m\u001b[38;5;124m'\u001b[39m]\n\u001b[0;32m      4\u001b[0m     \u001b[38;5;28;01mreturn\u001b[39;00m price\n",
      "\u001b[1;31mAssertionError\u001b[0m: "
     ]
    }
   ],
   "source": [
    "apply_discount(shoes, 2.0)"
   ]
  },
  {
   "cell_type": "code",
   "execution_count": 30,
   "id": "9b0f9367",
   "metadata": {},
   "outputs": [
    {
     "name": "stdout",
     "output_type": "stream",
     "text": [
      "It is x.\n"
     ]
    }
   ],
   "source": [
    "cond = 'x'\n",
    "# cond = 'y'\n",
    "# cond = 'z'\n",
    "\n",
    "if cond == 'x':\n",
    "    print('It is x.')\n",
    "elif cond == 'y':\n",
    "    print('It is y.')\n",
    "else:\n",
    "    assert False, (\n",
    "    'This should never happen, but it does '\n",
    "    'occasionally. We are currently trying to '\n",
    "    'figure out why. Email dbader if you '\n",
    "    'encounter this in the wild. Thanks!')"
   ]
  },
  {
   "cell_type": "code",
   "execution_count": null,
   "id": "b3b0776e",
   "metadata": {},
   "outputs": [],
   "source": []
  },
  {
   "cell_type": "code",
   "execution_count": null,
   "id": "4e58ca92",
   "metadata": {},
   "outputs": [],
   "source": []
  }
 ],
 "metadata": {
  "kernelspec": {
   "display_name": "Python 3 (ipykernel)",
   "language": "python",
   "name": "python3"
  },
  "language_info": {
   "codemirror_mode": {
    "name": "ipython",
    "version": 3
   },
   "file_extension": ".py",
   "mimetype": "text/x-python",
   "name": "python",
   "nbconvert_exporter": "python",
   "pygments_lexer": "ipython3",
   "version": "3.8.13"
  }
 },
 "nbformat": 4,
 "nbformat_minor": 5
}
